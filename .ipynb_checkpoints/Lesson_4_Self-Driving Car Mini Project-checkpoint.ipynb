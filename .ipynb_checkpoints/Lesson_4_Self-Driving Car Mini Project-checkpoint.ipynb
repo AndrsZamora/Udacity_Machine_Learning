{
 "metadata": {
  "name": "",
  "signature": "sha256:a029333386479d14ccf51f9de102d933f6ead6a7185a5fd2366b5211bbc4f6fa"
 },
 "nbformat": 3,
 "nbformat_minor": 0,
 "worksheets": [
  {
   "cells": [
    {
     "cell_type": "markdown",
     "metadata": {},
     "source": [
      "#Machine Learning For Self Driving Car"
     ]
    },
    {
     "cell_type": "markdown",
     "metadata": {},
     "source": [
      "###Your algorithm choices are the following:\n",
      "\n",
      "k nearest neighbors:\n",
      "classic, simple, easy to understand\n",
      "\n",
      "random forest:\n",
      "\"ensemble methods\"; meta classifier -> built from many decision trees and they work together to come up with a single decision.\n",
      "\n",
      "adaboost (sometimes also called boosted decision tree):\n",
      "\"ensemble methods\"; meta classifier -> built from many decision trees and they work together to come up with a single decision."
     ]
    },
    {
     "cell_type": "markdown",
     "metadata": {},
     "source": [
      "###Process:\n",
      "\n",
      "take the name of your algorithm, take it to google and get an understanding for the algorithm (sklearn documentation)\n",
      "\n",
      "deploy the algorithm\n",
      "\n",
      "use the algorithm to make predictions and determine the accuracy. \n",
      "\n",
      "evaluate it (accuracy)"
     ]
    },
    {
     "cell_type": "markdown",
     "metadata": {},
     "source": [
      "###Research and Understand the Algorithm:\n",
      "\n",
      "KNN:"
     ]
    },
    {
     "cell_type": "code",
     "collapsed": false,
     "input": [
      "from IPython.display import HTML\n",
      "\n",
      "HTML('<a href=\"https://www.flickr.com/photos/62259293@N05/15767253658\" title=\"KNN by Oleg Dubno, on Flickr\"><img src=\"https://farm8.staticflickr.com/7496/15767253658_0304aefd08_o.png\" width=\"624\" height=\"353\" alt=\"KNN\"></a>')"
     ],
     "language": "python",
     "metadata": {},
     "outputs": [
      {
       "html": [
        "<a href=\"https://www.flickr.com/photos/62259293@N05/15767253658\" title=\"KNN by Oleg Dubno, on Flickr\"><img src=\"https://farm8.staticflickr.com/7496/15767253658_0304aefd08_o.png\" width=\"624\" height=\"353\" alt=\"KNN\"></a>"
       ],
       "metadata": {},
       "output_type": "pyout",
       "prompt_number": 1,
       "text": [
        "<IPython.core.display.HTML at 0x104451650>"
       ]
      }
     ],
     "prompt_number": 1
    },
    {
     "cell_type": "markdown",
     "metadata": {},
     "source": [
      "The 'k=' parameter explained -> the 'k=' parameter identifies the amount of points you want to classify in the data set.\n",
      "If k=3, an additional point 'c' will be generated and placed at the center of the 3 closest data points. Hence, 'k=3'. 'c' will then change to the data point, who's frequency is highest within that range. In this case there are more 'o' (2 more) than 'a'(only 1) and as a result, 'c' will be classified as 'o'."
     ]
    },
    {
     "cell_type": "markdown",
     "metadata": {},
     "source": [
      "Essentially the KNN does what it's name reads: After you define the parameter 'k' with a value, KNN will find the middle ground (average) in the dataset between all your points and encompass the desired amount of points, which is 'k='; In the above example it's 3. After which it'll classify the tested point as the point that appears most; in the above example its 'o'."
     ]
    },
    {
     "cell_type": "code",
     "collapsed": false,
     "input": [
      "#!/usr/bin/python\n",
      "import random\n",
      "\n",
      "\n",
      "def makeTerrainData(n_points=1000):\n",
      "###############################################################################\n",
      "### make the toy dataset\n",
      "    random.seed(42)\n",
      "    grade = [random.random() for ii in range(0,n_points)]\n",
      "    bumpy = [random.random() for ii in range(0,n_points)]\n",
      "    error = [random.random() for ii in range(0,n_points)]\n",
      "    y = [round(grade[ii]*bumpy[ii]+0.3+0.1*error[ii]) for ii in range(0,n_points)]\n",
      "    for ii in range(0, len(y)):\n",
      "        if grade[ii]>0.8 or bumpy[ii]>0.8:\n",
      "            y[ii] = 1.0\n",
      "\n",
      "### split into train/test sets\n",
      "    X = [[gg, ss] for gg, ss in zip(grade, bumpy)]\n",
      "    split = int(0.75*n_points)\n",
      "    X_train = X[0:split]\n",
      "    X_test  = X[split:]\n",
      "    y_train = y[0:split]\n",
      "    y_test  = y[split:]\n",
      "\n",
      "    grade_sig = [X_train[ii][0] for ii in range(0, len(X_train)) if y_train[ii]==0]\n",
      "    bumpy_sig = [X_train[ii][1] for ii in range(0, len(X_train)) if y_train[ii]==0]\n",
      "    grade_bkg = [X_train[ii][0] for ii in range(0, len(X_train)) if y_train[ii]==1]\n",
      "    bumpy_bkg = [X_train[ii][1] for ii in range(0, len(X_train)) if y_train[ii]==1]\n",
      "\n",
      "    training_data = {\"fast\":{\"grade\":grade_sig, \"bumpiness\":bumpy_sig}\n",
      "            , \"slow\":{\"grade\":grade_bkg, \"bumpiness\":bumpy_bkg}}\n",
      "\n",
      "\n",
      "    grade_sig = [X_test[ii][0] for ii in range(0, len(X_test)) if y_test[ii]==0]\n",
      "    bumpy_sig = [X_test[ii][1] for ii in range(0, len(X_test)) if y_test[ii]==0]\n",
      "    grade_bkg = [X_test[ii][0] for ii in range(0, len(X_test)) if y_test[ii]==1]\n",
      "    bumpy_bkg = [X_test[ii][1] for ii in range(0, len(X_test)) if y_test[ii]==1]\n",
      "\n",
      "    test_data = {\"fast\":{\"grade\":grade_sig, \"bumpiness\":bumpy_sig}\n",
      "            , \"slow\":{\"grade\":grade_bkg, \"bumpiness\":bumpy_bkg}}\n",
      "\n",
      "    return X_train, y_train, X_test, y_test\n",
      "\n"
     ],
     "language": "python",
     "metadata": {},
     "outputs": [],
     "prompt_number": 2
    },
    {
     "cell_type": "code",
     "collapsed": false,
     "input": [
      "#!/usr/bin/python\n",
      "\n",
      "import numpy as np\n",
      "import matplotlib.pyplot as plt\n",
      "import pylab as pl\n",
      "\n",
      "def prettyPicture(clf, X_test, y_test):\n",
      "    x_min = 0.0; x_max = 1.0\n",
      "    y_min = 0.0; y_max = 1.0\n",
      "    \n",
      "    # Plot the decision boundary. For that, we will assign a color to each\n",
      "    # point in the mesh [x_min, m_max]x[y_min, y_max].\n",
      "    h = .01  # step size in the mesh\n",
      "    xx, yy = np.meshgrid(np.arange(x_min, x_max, h), np.arange(y_min, y_max, h))\n",
      "    Z = clf.predict(np.c_[xx.ravel(), yy.ravel()])\n",
      "\n",
      "    # Put the result into a color plot\n",
      "    Z = Z.reshape(xx.shape)\n",
      "    plt.xlim(xx.min(), xx.max())\n",
      "    plt.ylim(yy.min(), yy.max())\n",
      "\n",
      "    plt.pcolormesh(xx, yy, Z, cmap=pl.cm.seismic)\n",
      "\n",
      "    # Plot also the test points\n",
      "    grade_sig = [X_test[ii][0] for ii in range(0, len(X_test)) if y_test[ii]==0]\n",
      "    bumpy_sig = [X_test[ii][1] for ii in range(0, len(X_test)) if y_test[ii]==0]\n",
      "    grade_bkg = [X_test[ii][0] for ii in range(0, len(X_test)) if y_test[ii]==1]\n",
      "    bumpy_bkg = [X_test[ii][1] for ii in range(0, len(X_test)) if y_test[ii]==1]\n",
      "\n",
      "    plt.scatter(grade_sig, bumpy_sig, color = \"b\", label=\"fast\")\n",
      "    plt.scatter(grade_bkg, bumpy_bkg, color = \"r\", label=\"slow\")\n",
      "    plt.legend()\n",
      "    plt.xlabel(\"bumpiness\")\n",
      "    plt.ylabel(\"grade\")\n",
      "\n",
      "    plt.savefig(\"test.png\")\n",
      "\n",
      "import base64\n",
      "import json\n",
      "import subprocess\n",
      "\n",
      "def output_image(name, format, bytes):\n",
      "    image_start = \"BEGIN_IMAGE_f9825uweof8jw9fj4r8\"\n",
      "    image_end = \"END_IMAGE_0238jfw08fjsiufhw8frs\"\n",
      "    data = {}\n",
      "    data['name'] = name\n",
      "    data['format'] = format\n",
      "    data['bytes'] = base64.encodestring(bytes)\n",
      "    print image_start+json.dumps(data)+image_end\n",
      "                                    \n"
     ],
     "language": "python",
     "metadata": {},
     "outputs": [],
     "prompt_number": 3
    },
    {
     "cell_type": "code",
     "collapsed": false,
     "input": [
      "#!/usr/bin/python\n",
      "\n",
      "import matplotlib.pyplot as plt\n",
      "#from prep_terrain_data import makeTerrainData\n",
      "#from class_vis import prettyPicture\n",
      "\n",
      "features_train, labels_train, features_test, labels_test = makeTerrainData()"
     ],
     "language": "python",
     "metadata": {},
     "outputs": [],
     "prompt_number": 4
    },
    {
     "cell_type": "code",
     "collapsed": false,
     "input": [
      "import matplotlib.pyplot as plt\n",
      "from sklearn.neighbors import NearestNeighbors"
     ],
     "language": "python",
     "metadata": {},
     "outputs": [],
     "prompt_number": 5
    },
    {
     "cell_type": "code",
     "collapsed": false,
     "input": [
      "%matplotlib inline\n",
      "\n",
      "\n",
      "### the training data (features_train, labels_train) have both \"fast\" and \"slow\" points mixed\n",
      "### in together--separate them so we can give them different colors in the scatterplot,\n",
      "### and visually identify them\n",
      "grade_fast = [features_train[ii][0] for ii in range(0, len(features_train)) if labels_train[ii]==0]\n",
      "bumpy_fast = [features_train[ii][1] for ii in range(0, len(features_train)) if labels_train[ii]==0]\n",
      "grade_slow = [features_train[ii][0] for ii in range(0, len(features_train)) if labels_train[ii]==1]\n",
      "bumpy_slow = [features_train[ii][1] for ii in range(0, len(features_train)) if labels_train[ii]==1]\n",
      "\n",
      "\n",
      "#### initial visualization\n",
      "plt.xlim(0.0, 1.0)\n",
      "plt.ylim(0.0, 1.0)\n",
      "plt.scatter(bumpy_fast, grade_fast, color = \"b\", label=\"fast\")\n",
      "plt.scatter(grade_slow, bumpy_slow, color = \"r\", label=\"slow\")\n",
      "plt.legend()\n",
      "plt.xlabel(\"bumpiness\")\n",
      "plt.ylabel(\"grade\")\n",
      "plt.show()"
     ],
     "language": "python",
     "metadata": {},
     "outputs": [
      {
       "metadata": {},
       "output_type": "display_data",
       "png": "[encoded data removed]",
       "text": [
        "<matplotlib.figure.Figure at 0x107b5b9d0>"
       ]
      }
     ],
     "prompt_number": 6
    },
    {
     "cell_type": "code",
     "collapsed": false,
     "input": [
      "from sklearn.neighbors import KNeighborsClassifier\n",
      "\n",
      "### your code here!  name your classifier object clf if you want the \n",
      "### visualization code (prettyPicture) to show you the decision boundary\n",
      "\n",
      "clf = KNeighborsClassifier(n_neighbors=20)\n",
      "clf.fit(features_train,labels_train)"
     ],
     "language": "python",
     "metadata": {},
     "outputs": [
      {
       "metadata": {},
       "output_type": "pyout",
       "prompt_number": 22,
       "text": [
        "KNeighborsClassifier(algorithm='auto', leaf_size=30, metric='minkowski',\n",
        "           n_neighbors=20, p=2, weights='uniform')"
       ]
      }
     ],
     "prompt_number": 22
    },
    {
     "cell_type": "code",
     "collapsed": false,
     "input": [
      "clf.score(features_test,labels_test)"
     ],
     "language": "python",
     "metadata": {},
     "outputs": [
      {
       "metadata": {},
       "output_type": "pyout",
       "prompt_number": 26,
       "text": [
        "0.93600000000000005"
       ]
      }
     ],
     "prompt_number": 26
    },
    {
     "cell_type": "markdown",
     "metadata": {},
     "source": [
      "Above is my accuracy score in classifying the test set using KNN. I do pretty well using k=20 or n-neighbors=20. Using any other k= caused for a lower percentage. 93.6% is the best that I could do."
     ]
    },
    {
     "cell_type": "markdown",
     "metadata": {},
     "source": [
      "Below is a chart showing the classification based on the score."
     ]
    },
    {
     "cell_type": "code",
     "collapsed": false,
     "input": [
      "try:\n",
      "    prettyPicture(clf, features_test, labels_test)\n",
      "except NameError:\n",
      "    pass\n"
     ],
     "language": "python",
     "metadata": {},
     "outputs": [
      {
       "metadata": {},
       "output_type": "display_data",
       "png": "[encoded data removed]",
       "text": [
        "<matplotlib.figure.Figure at 0x107b0b690>"
       ]
      }
     ],
     "prompt_number": 24
    },
    {
     "cell_type": "code",
     "collapsed": false,
     "input": [],
     "language": "python",
     "metadata": {},
     "outputs": []
    }
   ],
   "metadata": {}
  }
 ]
}