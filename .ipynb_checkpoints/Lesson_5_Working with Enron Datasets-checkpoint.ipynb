{
 "metadata": {
  "name": "",
  "signature": "sha256:1a5db9b7861377c9609434d45cac50e51abb1be242185220e4db07c91f71312d"
 },
 "nbformat": 3,
 "nbformat_minor": 0,
 "worksheets": [
  {
   "cells": [
    {
     "cell_type": "code",
     "collapsed": false,
     "input": [],
     "language": "python",
     "metadata": {},
     "outputs": []
    },
    {
     "cell_type": "markdown",
     "metadata": {},
     "source": [
      "####What is the person of interest:\n",
      "\n",
      "indicted; settled without admitting guilt; testified in exchange for immunity"
     ]
    },
    {
     "cell_type": "markdown",
     "metadata": {},
     "source": [
      "The Data Set:\n",
      "\n",
      "Lot's of e-mails\n"
     ]
    },
    {
     "cell_type": "markdown",
     "metadata": {},
     "source": [
      "Below, I'm loading Enron dataset (emails and finances)\n",
      "The dataset is stored in a pickle file. Which will require importing of pickle to export it.\n",
      "\n",
      "The form of the dataset:\n",
      "\n",
      "enron_data[\"LASTNAME FIRSTNAME MIDDLEINITIAL\"] = { features_dict }\n",
      "\n",
      "features_dict contains features associated with that person."
     ]
    },
    {
     "cell_type": "code",
     "collapsed": false,
     "input": [
      "import pickle\n",
      "\n",
      "enron_data = pickle.load(open(\"/Users/olehdubno/Desktop/ud120-projects-master/final_project/final_project_dataset.pkl\", \"r\"))"
     ],
     "language": "python",
     "metadata": {},
     "outputs": [],
     "prompt_number": 2
    },
    {
     "cell_type": "markdown",
     "metadata": {},
     "source": [
      "###Features\n",
      "\n",
      "salary\n",
      "to_messages\n",
      "deferral_payments\n",
      "total_payments\n",
      "exercised_stock_options\n",
      "bonus\n",
      "restricted_stock\n",
      "shared_receipt_with_poi\n",
      "restricted_stock_deferred\n",
      "total_stock_value\n",
      "expenses\n",
      "loan_advances\n",
      "from_messages\n",
      "other\n",
      "from_this_person_to_poi\n",
      "poi\n",
      "director_fees\n",
      "deferred_income\n",
      "long_term_incentive\n",
      "email_address\n",
      "from_poi_to_this_person"
     ]
    },
    {
     "cell_type": "code",
     "collapsed": false,
     "input": [],
     "language": "python",
     "metadata": {},
     "outputs": []
    },
    {
     "cell_type": "code",
     "collapsed": false,
     "input": [],
     "language": "python",
     "metadata": {},
     "outputs": []
    },
    {
     "cell_type": "code",
     "collapsed": false,
     "input": [],
     "language": "python",
     "metadata": {},
     "outputs": []
    },
    {
     "cell_type": "code",
     "collapsed": false,
     "input": [],
     "language": "python",
     "metadata": {},
     "outputs": []
    }
   ],
   "metadata": {}
  }
 ]
}