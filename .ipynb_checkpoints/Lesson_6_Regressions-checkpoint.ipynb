{
 "metadata": {
  "name": "",
  "signature": "sha256:6f168a39c5c6b4602d7924e702a82cf7c45c16347ed86708c40463ca0d384354"
 },
 "nbformat": 3,
 "nbformat_minor": 0,
 "worksheets": [
  {
   "cells": [
    {
     "cell_type": "code",
     "collapsed": false,
     "input": [
      "import numpy \n",
      "import matplotlib\n",
      "matplotlib.use('agg')\n",
      "\n",
      "import matplotlib.pyplot as plt\n"
     ],
     "language": "python",
     "metadata": {},
     "outputs": [],
     "prompt_number": 1
    },
    {
     "cell_type": "code",
     "collapsed": false,
     "input": [
      "import random\n",
      "\n",
      "def ageNetWorthData():\n",
      "    \n",
      "    random.seed(42)\n",
      "    numpy.random.seed(42)\n",
      "    \n",
      "    ages = []\n",
      "    for ii in range(100):\n",
      "        ages.append(random.randint(20,65))\n",
      "    net_worths = [ii * 6.25 + numpy.random.normal(scale=40.) for ii in ages]\n",
      "    \n",
      "    ages = numpy.reshape(numpy.array(ages),(len(ages),1))\n",
      "    \n",
      "    net_worths = numpy.reshape(numpy.array(net_worths),(len(net_worths),1))\n",
      "    \n",
      "    from sklearn.cross_validation import train_test_split\n",
      "    ages_train, ages_test, net_worths_train, net_worths_test = train_test_split(ages, net_worths)\n",
      "    \n",
      "    return ages_train, ages_test, net_worths_train, net_worths_test"
     ],
     "language": "python",
     "metadata": {},
     "outputs": [],
     "prompt_number": 2
    },
    {
     "cell_type": "code",
     "collapsed": false,
     "input": [
      "#function to run the regression (not necessary)\n",
      "#function not necessary. Individual code lines do the job. Still cool though.\n",
      "def studentReg(ages_train, net_worths_train):\n",
      "    ### import the sklearn regression module, create, and train your regression\n",
      "    from sklearn.linear_model import LinearRegression\n",
      "    ### name your regression reg\n",
      "    reg = LinearRegression()\n",
      "    ### your code goes here!\n",
      "    reg.fit(ages_train, net_worths_train)\n",
      "    \n",
      "    \n",
      "    return reg"
     ],
     "language": "python",
     "metadata": {},
     "outputs": [],
     "prompt_number": 3
    },
    {
     "cell_type": "code",
     "collapsed": false,
     "input": [
      "ages_train, ages_test, net_worths_train, net_worths_test = ageNetWorthData()"
     ],
     "language": "python",
     "metadata": {},
     "outputs": [],
     "prompt_number": 4
    },
    {
     "cell_type": "code",
     "collapsed": false,
     "input": [
      "from sklearn.linear_model import LinearRegression\n",
      "\n",
      "reg = LinearRegression()\n",
      "\n",
      "reg.fit(ages_train, net_worths_train)"
     ],
     "language": "python",
     "metadata": {},
     "outputs": [
      {
       "metadata": {},
       "output_type": "pyout",
       "prompt_number": 5,
       "text": [
        "LinearRegression(copy_X=True, fit_intercept=True, normalize=False)"
       ]
      }
     ],
     "prompt_number": 5
    },
    {
     "cell_type": "code",
     "collapsed": false,
     "input": [
      "reg.predict([50])[0]"
     ],
     "language": "python",
     "metadata": {},
     "outputs": [
      {
       "metadata": {},
       "output_type": "pyout",
       "prompt_number": 6,
       "text": [
        "309.32369417109737"
       ]
      }
     ],
     "prompt_number": 6
    },
    {
     "cell_type": "markdown",
     "metadata": {},
     "source": [
      "tutorial taking you through this. very effective\n",
      "http://napitupulu-jon.appspot.com/posts/regression-ud.html"
     ]
    },
    {
     "cell_type": "code",
     "collapsed": false,
     "input": [
      "%matplotlib inline"
     ],
     "language": "python",
     "metadata": {},
     "outputs": [],
     "prompt_number": 7
    },
    {
     "cell_type": "code",
     "collapsed": false,
     "input": [
      "plt.scatter(ages_train, net_worths_train, color=\"b\", label=\"train data\")\n",
      "plt.scatter(ages_test, net_worths_test, color=\"r\", label=\"test data\")\n",
      "plt.plot(ages_test, reg.predict(ages_test), color=\"black\")\n",
      "plt.legend(loc=2)\n",
      "plt.xlabel(\"ages\")\n",
      "plt.ylabel(\"net worths\")"
     ],
     "language": "python",
     "metadata": {},
     "outputs": [
      {
       "metadata": {},
       "output_type": "pyout",
       "prompt_number": 8,
       "text": [
        "<matplotlib.text.Text at 0x107e1d290>"
       ]
      },
      {
       "metadata": {},
       "output_type": "display_data",
       "png": "[encoded data removed]",
       "text": [
        "<matplotlib.figure.Figure at 0x107ddcf10>"
       ]
      }
     ],
     "prompt_number": 8
    },
    {
     "cell_type": "code",
     "collapsed": false,
     "input": [
      "reg.predict([50])"
     ],
     "language": "python",
     "metadata": {},
     "outputs": [
      {
       "metadata": {},
       "output_type": "pyout",
       "prompt_number": 9,
       "text": [
        "array([ 309.32369417])"
       ]
      }
     ],
     "prompt_number": 9
    },
    {
     "cell_type": "code",
     "collapsed": false,
     "input": [
      "print \"slope\", reg.coef_"
     ],
     "language": "python",
     "metadata": {},
     "outputs": [
      {
       "output_type": "stream",
       "stream": "stdout",
       "text": [
        "slope [[ 6.47354955]]\n"
       ]
      }
     ],
     "prompt_number": 10
    },
    {
     "cell_type": "code",
     "collapsed": false,
     "input": [
      "print \"intercept\", reg.intercept_"
     ],
     "language": "python",
     "metadata": {},
     "outputs": [
      {
       "output_type": "stream",
       "stream": "stdout",
       "text": [
        "intercept [-14.35378331]\n"
       ]
      }
     ],
     "prompt_number": 11
    },
    {
     "cell_type": "code",
     "collapsed": false,
     "input": [
      "print \"r-squared\", reg.score(ages_test, net_worths_test)"
     ],
     "language": "python",
     "metadata": {},
     "outputs": [
      {
       "output_type": "stream",
       "stream": "stdout",
       "text": [
        "r-squared 0.812365729231\n"
       ]
      }
     ],
     "prompt_number": 12
    },
    {
     "cell_type": "code",
     "collapsed": false,
     "input": [
      "print \"r-squared \", reg.score(ages_train, net_worths_train)"
     ],
     "language": "python",
     "metadata": {},
     "outputs": [
      {
       "output_type": "stream",
       "stream": "stdout",
       "text": [
        "r-squared  0.874588235822\n"
       ]
      }
     ],
     "prompt_number": 13
    },
    {
     "cell_type": "markdown",
     "metadata": {},
     "source": [
      "#Regression mini-project"
     ]
    },
    {
     "cell_type": "code",
     "collapsed": false,
     "input": [
      "#!/usr/bin/python\n",
      "\n",
      "\"\"\"\n",
      "    starter code for the regression mini-project\n",
      "    \n",
      "    loads up/formats a modified version of the dataset\n",
      "    (why modified?  we've removed some trouble points\n",
      "    that you'll find yourself in the outliers mini-project)\n",
      "\n",
      "    draws a little scatterplot of the training/testing data\n",
      "\n",
      "\"\"\"    \n",
      "\n",
      "\n",
      "import sys\n",
      "import pickle\n",
      "sys.path.append(\"/Users/olehdubno/Desktop/ud120-projects-master/tools/\")\n",
      "from feature_format import featureFormat, targetFeatureSplit\n",
      "dictionary = pickle.load( open(\"/Users/olehdubno/Desktop/ud120-projects-master/final_project/final_project_dataset_modified.pkl\", \"r\") )\n",
      "\n",
      "### list the features you want to look at--first item in the \n",
      "### list will be the \"target\" feature\n",
      "features_list = [\"bonus\", \"salary\"]\n",
      "data = featureFormat( dictionary, features_list, remove_any_zeroes=True)#, \"long_term_incentive\"], remove_any_zeroes=True )\n",
      "target, features = targetFeatureSplit( data )\n",
      "\n",
      "### training-testing split needed in regression, just like classification\n",
      "from sklearn.cross_validation import train_test_split\n",
      "feature_train, feature_test, target_train, target_test = train_test_split(features, target, test_size=0.5, random_state=42)\n",
      "train_color = \"b\"\n",
      "test_color = \"b\"\n",
      "\n",
      "\n",
      "\n",
      "### your regression goes here!\n",
      "### please name it reg, so that the plotting code below picks it up and \n",
      "### plots it correctly\n",
      "\n",
      "\n",
      "\n",
      "### draw the scatterplot, with color-coded training and testing points\n",
      "import matplotlib.pyplot as plt\n",
      "for feature, target in zip(feature_test, target_test):\n",
      "    plt.scatter( feature, target, color=\"b\" ) \n",
      "for feature, target in zip(feature_train, target_train):\n",
      "    plt.scatter( feature, target, color=\"r\" ) \n",
      "\n",
      "### labels for the legend\n",
      "plt.scatter(feature_test[0], target_test[0], color=\"b\", label=\"test\")\n",
      "plt.scatter(feature_test[0], target_test[0], color=\"r\", label=\"train\")\n",
      "\n",
      "\n",
      "\n",
      "\n",
      "### draw the regression line, once it's coded\n",
      "try:\n",
      "    plt.plot( feature_test, reg.predict(feature_test) )\n",
      "except NameError:\n",
      "    pass\n",
      "plt.xlabel(features_list[1])\n",
      "reg.fit(feature_test, target_test)\n",
      "plt.plot(feature_train, reg.predict(feature_train), color=\"r\") \n",
      "plt.ylabel(features_list[0])\n",
      "plt.legend()\n",
      "plt.show()\n"
     ],
     "language": "python",
     "metadata": {},
     "outputs": [
      {
       "metadata": {},
       "output_type": "display_data",
       "png": "[encoded data removed]",
       "text": [
        "<matplotlib.figure.Figure at 0x10981a6d0>"
       ]
      }
     ],
     "prompt_number": 108
    },
    {
     "cell_type": "code",
     "collapsed": false,
     "input": [
      "reg.coef_"
     ],
     "language": "python",
     "metadata": {},
     "outputs": [
      {
       "metadata": {},
       "output_type": "pyout",
       "prompt_number": 109,
       "text": [
        "array([ 2.27410114])"
       ]
      }
     ],
     "prompt_number": 109
    },
    {
     "cell_type": "code",
     "collapsed": false,
     "input": [
      "from sklearn.linear_model import LinearRegression\n",
      "\n",
      "reg = LinearRegression()\n",
      "\n",
      "reg.fit(feature_train, target_train)"
     ],
     "language": "python",
     "metadata": {},
     "outputs": [
      {
       "metadata": {},
       "output_type": "pyout",
       "prompt_number": 93,
       "text": [
        "LinearRegression(copy_X=True, fit_intercept=True, normalize=False)"
       ]
      }
     ],
     "prompt_number": 93
    },
    {
     "cell_type": "code",
     "collapsed": false,
     "input": [
      "print \"Slope\", reg.coef_\n",
      "print \"Intercept\", reg.intercept_"
     ],
     "language": "python",
     "metadata": {},
     "outputs": [
      {
       "output_type": "stream",
       "stream": "stdout",
       "text": [
        "Slope [ 0.40364065]\n",
        "Intercept 723040.817416\n"
       ]
      }
     ],
     "prompt_number": 102
    },
    {
     "cell_type": "code",
     "collapsed": false,
     "input": [
      "print \"r-squared (training data)\", reg.score(feature_train,target_train)"
     ],
     "language": "python",
     "metadata": {},
     "outputs": [
      {
       "output_type": "stream",
       "stream": "stdout",
       "text": [
        "r-squared (training data) 0.217085971258\n"
       ]
      }
     ],
     "prompt_number": 95
    },
    {
     "cell_type": "code",
     "collapsed": false,
     "input": [
      "print \"r-squared (test data)\", reg.score(feature_test,target_test)"
     ],
     "language": "python",
     "metadata": {},
     "outputs": [
      {
       "output_type": "stream",
       "stream": "stdout",
       "text": [
        "r-squared (test data) -0.59271289995\n"
       ]
      }
     ],
     "prompt_number": 96
    },
    {
     "cell_type": "code",
     "collapsed": false,
     "input": [],
     "language": "python",
     "metadata": {},
     "outputs": []
    },
    {
     "cell_type": "markdown",
     "metadata": {},
     "source": [
      "#Pulling in my own data set"
     ]
    },
    {
     "cell_type": "code",
     "collapsed": false,
     "input": [
      "import pandas as pd\n"
     ],
     "language": "python",
     "metadata": {},
     "outputs": [],
     "prompt_number": 14
    },
    {
     "cell_type": "code",
     "collapsed": false,
     "input": [
      "df = pd.read_csv('/Users/olehdubno/Desktop/lecture quality.csv')"
     ],
     "language": "python",
     "metadata": {},
     "outputs": [],
     "prompt_number": 30
    },
    {
     "cell_type": "code",
     "collapsed": false,
     "input": [
      "df"
     ],
     "language": "python",
     "metadata": {},
     "outputs": [
      {
       "html": [
        "<div style=\"max-height:1000px;max-width:1500px;overflow:auto;\">\n",
        "<table border=\"1\" class=\"dataframe\">\n",
        "  <thead>\n",
        "    <tr style=\"text-align: right;\">\n",
        "      <th></th>\n",
        "      <th>Proportions of preparation time</th>\n",
        "      <th>Quality of lecture</th>\n",
        "    </tr>\n",
        "  </thead>\n",
        "  <tbody>\n",
        "    <tr>\n",
        "      <th>0</th>\n",
        "      <td>  8</td>\n",
        "      <td> 8</td>\n",
        "    </tr>\n",
        "    <tr>\n",
        "      <th>1</th>\n",
        "      <td> 15</td>\n",
        "      <td> 8</td>\n",
        "    </tr>\n",
        "    <tr>\n",
        "      <th>2</th>\n",
        "      <td> 22</td>\n",
        "      <td> 4</td>\n",
        "    </tr>\n",
        "    <tr>\n",
        "      <th>3</th>\n",
        "      <td>  1</td>\n",
        "      <td> 9</td>\n",
        "    </tr>\n",
        "    <tr>\n",
        "      <th>4</th>\n",
        "      <td> 35</td>\n",
        "      <td> 3</td>\n",
        "    </tr>\n",
        "  </tbody>\n",
        "</table>\n",
        "</div>"
       ],
       "metadata": {},
       "output_type": "pyout",
       "prompt_number": 31,
       "text": [
        "   Proportions of preparation time  Quality of lecture\n",
        "0                                8                   8\n",
        "1                               15                   8\n",
        "2                               22                   4\n",
        "3                                1                   9\n",
        "4                               35                   3"
       ]
      }
     ],
     "prompt_number": 31
    },
    {
     "cell_type": "code",
     "collapsed": false,
     "input": [
      "X_Variables = ['Proportions of preparation time']\n",
      "X = df[X_Variables]\n",
      "\n",
      "X = X.values\n",
      "y = df['Quality of lecture']"
     ],
     "language": "python",
     "metadata": {},
     "outputs": [],
     "prompt_number": 32
    },
    {
     "cell_type": "code",
     "collapsed": false,
     "input": [
      "from sklearn.cross_validation import train_test_split\n",
      "\n",
      "X_train, X_test, Y_train, Y_test = train_test_split(X,y,test_size=.25)"
     ],
     "language": "python",
     "metadata": {},
     "outputs": [],
     "prompt_number": 33
    },
    {
     "cell_type": "code",
     "collapsed": false,
     "input": [
      "from sklearn.linear_model import LinearRegression"
     ],
     "language": "python",
     "metadata": {},
     "outputs": [],
     "prompt_number": 34
    },
    {
     "cell_type": "code",
     "collapsed": false,
     "input": [
      "reg = LinearRegression()"
     ],
     "language": "python",
     "metadata": {},
     "outputs": [],
     "prompt_number": 35
    },
    {
     "cell_type": "code",
     "collapsed": false,
     "input": [
      "reg.fit(X_train,Y_train)"
     ],
     "language": "python",
     "metadata": {},
     "outputs": [
      {
       "metadata": {},
       "output_type": "pyout",
       "prompt_number": 36,
       "text": [
        "LinearRegression(copy_X=True, fit_intercept=True, normalize=False)"
       ]
      }
     ],
     "prompt_number": 36
    },
    {
     "cell_type": "code",
     "collapsed": false,
     "input": [
      "reg.score(X_train,Y_train)"
     ],
     "language": "python",
     "metadata": {},
     "outputs": [
      {
       "metadata": {},
       "output_type": "pyout",
       "prompt_number": 38,
       "text": [
        "0.9057195090101855"
       ]
      }
     ],
     "prompt_number": 38
    },
    {
     "cell_type": "code",
     "collapsed": false,
     "input": [
      "reg.coef_"
     ],
     "language": "python",
     "metadata": {},
     "outputs": [
      {
       "metadata": {},
       "output_type": "pyout",
       "prompt_number": 39,
       "text": [
        "array([-0.18647166])"
       ]
      }
     ],
     "prompt_number": 39
    },
    {
     "cell_type": "code",
     "collapsed": false,
     "input": [
      "reg.predict([5])"
     ],
     "language": "python",
     "metadata": {},
     "outputs": [
      {
       "metadata": {},
       "output_type": "pyout",
       "prompt_number": 40,
       "text": [
        "8.1078610603290677"
       ]
      }
     ],
     "prompt_number": 40
    },
    {
     "cell_type": "code",
     "collapsed": false,
     "input": [],
     "language": "python",
     "metadata": {},
     "outputs": []
    }
   ],
   "metadata": {}
  }
 ]
}