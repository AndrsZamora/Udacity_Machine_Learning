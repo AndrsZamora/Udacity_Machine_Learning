{
 "metadata": {
  "name": "",
  "signature": "sha256:31c35ae2cc236bef9b788bf39f94d7fbf8f8ad2e8a1c22c9b4afaac99ae9b462"
 },
 "nbformat": 3,
 "nbformat_minor": 0,
 "worksheets": [
  {
   "cells": [
    {
     "cell_type": "code",
     "collapsed": false,
     "input": [
      "import numpy \n",
      "import matplotlib\n",
      "matplotlib.use('agg')\n",
      "\n",
      "import matplotlib.pyplot as plt\n"
     ],
     "language": "python",
     "metadata": {},
     "outputs": [],
     "prompt_number": 1
    },
    {
     "cell_type": "code",
     "collapsed": false,
     "input": [
      "import random\n",
      "\n",
      "def ageNetWorthData():\n",
      "    \n",
      "    random.seed(42)\n",
      "    numpy.random.seed(42)\n",
      "    \n",
      "    ages = []\n",
      "    for ii in range(100):\n",
      "        ages.append(random.randint(20,65))\n",
      "    net_worths = [ii * 6.25 + numpy.random.normal(scale=40.) for ii in ages]\n",
      "    \n",
      "    ages = numpy.reshape(numpy.array(ages),(len(ages),1))\n",
      "    \n",
      "    net_worths = numpy.reshape(numpy.array(net_worths),(len(net_worths),1))\n",
      "    \n",
      "    from sklearn.cross_validation import train_test_split\n",
      "    ages_train, ages_test, net_worths_train, net_worths_test = train_test_split(ages, net_worths)\n",
      "    \n",
      "    return ages_train, ages_test, net_worths_train, net_worths_test"
     ],
     "language": "python",
     "metadata": {},
     "outputs": [],
     "prompt_number": 3
    },
    {
     "cell_type": "code",
     "collapsed": false,
     "input": [
      "#function to run the regression (not necessary)\n",
      "def studentReg(ages_train, net_worths_train):\n",
      "    ### import the sklearn regression module, create, and train your regression\n",
      "    from sklearn.linear_model import LinearRegression\n",
      "    ### name your regression reg\n",
      "    reg = LinearRegression()\n",
      "    ### your code goes here!\n",
      "    reg.fit(ages_train, net_worths_train)\n",
      "    \n",
      "    \n",
      "    return reg"
     ],
     "language": "python",
     "metadata": {},
     "outputs": [],
     "prompt_number": 9
    },
    {
     "cell_type": "code",
     "collapsed": false,
     "input": [
      "ages_train, ages_test, net_worths_train, net_worths_test = ageNetWorthData()"
     ],
     "language": "python",
     "metadata": {},
     "outputs": [],
     "prompt_number": 10
    },
    {
     "cell_type": "code",
     "collapsed": false,
     "input": [
      "from sklearn.linear_model import LinearRegression\n",
      "\n",
      "reg = LinearRegression()\n",
      "\n",
      "reg.fit(ages_train, net_worths_train)"
     ],
     "language": "python",
     "metadata": {},
     "outputs": [
      {
       "metadata": {},
       "output_type": "pyout",
       "prompt_number": 7,
       "text": [
        "LinearRegression(copy_X=True, fit_intercept=True, normalize=False)"
       ]
      }
     ],
     "prompt_number": 7
    },
    {
     "cell_type": "code",
     "collapsed": false,
     "input": [
      "reg.predict([27])[0]"
     ],
     "language": "python",
     "metadata": {},
     "outputs": [
      {
       "metadata": {},
       "output_type": "pyout",
       "prompt_number": 8,
       "text": [
        "160.43205453082504"
       ]
      }
     ],
     "prompt_number": 8
    },
    {
     "cell_type": "markdown",
     "metadata": {},
     "source": [
      "tutorial taking you through this. very effective\n",
      "http://napitupulu-jon.appspot.com/posts/regression-ud.html"
     ]
    },
    {
     "cell_type": "code",
     "collapsed": false,
     "input": [],
     "language": "python",
     "metadata": {},
     "outputs": []
    }
   ],
   "metadata": {}
  }
 ]
}