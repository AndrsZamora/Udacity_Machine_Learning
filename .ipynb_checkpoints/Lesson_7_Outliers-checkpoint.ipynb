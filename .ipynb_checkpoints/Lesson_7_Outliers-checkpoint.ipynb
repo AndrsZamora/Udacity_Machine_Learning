{
 "metadata": {
  "name": "",
  "signature": "sha256:000f239fead7a5d3b660ef38f1d0cda4a010989a1235760bc38ef393858ee96f"
 },
 "nbformat": 3,
 "nbformat_minor": 0,
 "worksheets": [
  {
   "cells": [
    {
     "cell_type": "markdown",
     "metadata": {},
     "source": [
      "#Identifying and Removing Outliers"
     ]
    },
    {
     "cell_type": "markdown",
     "metadata": {},
     "source": [
      "This project has two parts. In the first part, you will run a regression, and identify and remove the 10% of points that have the largest residual errors. Then you\u2019ll remove those outliers from the dataset and refit the regression, just like the strategy that Sebastian suggested in the lesson videos.\n",
      "\n",
      "In the second part, you will get acquainted with some of the outliers in the Enron finance data, and learn if/how to remove them."
     ]
    },
    {
     "cell_type": "markdown",
     "metadata": {},
     "source": [
      "what you'll do is fit the regression on all training points discard the 10% of points that have the largest errors between the actual y values, and the regression-predicted y values refit on the remaining points.\n",
      "\n",
      "Start by running the starter code (outliers/outlier_removal_regression.py) and visualizing the points. A few outliers should clearly pop out. Deploy a linear regression, where net worth is the target and the feature being used to predict it is a person\u2019s age (remember to train on the training data!).\n",
      "\n",
      "The \u201ccorrect\u201d slope for the main body of data points is 6.25 (we know this because we used this value to generate the data); what slope does your regression have?"
     ]
    },
    {
     "cell_type": "code",
     "collapsed": false,
     "input": [
      "#!/usr/bin/python\n",
      "\n",
      "\n",
      "def outlierCleaner(predictions, ages, net_worths):\n",
      "    \"\"\"\n",
      "        cleaning away the 10% of points that have the largest\n",
      "        residual errors (different between the prediction\n",
      "        and the actual net worth)\n",
      "\n",
      "        returning a list of tuples named cleaned_data where \n",
      "        each tuple is of the form (age, net_worth, error)\n",
      "    \"\"\"\n",
      "\n",
      "    errors = (net_worths-predictions)**2\n",
      "    cleaned_data = zip(ages,net_worths,errors)\n",
      "    cleaned_data = sorted(cleaned_data,key=lambda x:x[2][0],reverse=True)\n",
      "    limit = int(len(net_worths)*0.1)\n",
      "    \n",
      "    \n",
      "    return cleaned_data[limit:]\n",
      "\n"
     ],
     "language": "python",
     "metadata": {},
     "outputs": [],
     "prompt_number": 43
    },
    {
     "cell_type": "code",
     "collapsed": false,
     "input": [
      "import random\n",
      "import numpy\n",
      "import matplotlib.pyplot as plt\n",
      "import pickle\n",
      "\n",
      "%matplotlib inline\n",
      "\n",
      "\n",
      "### load up some practice data with outliers in it\n",
      "ages = pickle.load( open(\"/Users/olehdubno/Desktop/ud120-projects-master/outliers/practice_outliers_ages.pkl\", \"r\") )\n",
      "net_worths = pickle.load( open(\"/Users/olehdubno/Desktop/ud120-projects-master/outliers/practice_outliers_net_worths.pkl\", \"r\") )"
     ],
     "language": "python",
     "metadata": {},
     "outputs": [],
     "prompt_number": 44
    },
    {
     "cell_type": "code",
     "collapsed": false,
     "input": [
      "type(ages)"
     ],
     "language": "python",
     "metadata": {},
     "outputs": [
      {
       "metadata": {},
       "output_type": "pyout",
       "prompt_number": 45,
       "text": [
        "list"
       ]
      }
     ],
     "prompt_number": 45
    },
    {
     "cell_type": "code",
     "collapsed": false,
     "input": [
      "### ages and net_worths need to be reshaped into 2D numpy arrays\n",
      "### second argument of reshape command is a tuple of integers: (n_rows, n_columns)\n",
      "### by convention, n_rows is the number of data points\n",
      "### and n_columns is the number of features\n",
      "ages       = numpy.reshape( numpy.array(ages), (len(ages), 1))\n",
      "net_worths = numpy.reshape( numpy.array(net_worths), (len(net_worths), 1))"
     ],
     "language": "python",
     "metadata": {},
     "outputs": [],
     "prompt_number": 46
    },
    {
     "cell_type": "code",
     "collapsed": false,
     "input": [
      "print type(ages)\n",
      "print type(net_worths)"
     ],
     "language": "python",
     "metadata": {},
     "outputs": [
      {
       "output_type": "stream",
       "stream": "stdout",
       "text": [
        "<type 'numpy.ndarray'>\n",
        "<type 'numpy.ndarray'>\n"
       ]
      }
     ],
     "prompt_number": 47
    },
    {
     "cell_type": "code",
     "collapsed": false,
     "input": [
      "from sklearn.linear_model import LinearRegression\n",
      "\n",
      "from sklearn.cross_validation import train_test_split\n",
      "ages_train, ages_test, net_worths_train, net_worths_test = train_test_split(ages, net_worths, test_size=0.1, random_state=42)\n",
      "\n",
      "### Creaing a regression object reg \n",
      "\n",
      "reg = LinearRegression()\n",
      "\n",
      "reg.fit(ages_train, net_worths_train)\n"
     ],
     "language": "python",
     "metadata": {},
     "outputs": [
      {
       "metadata": {},
       "output_type": "pyout",
       "prompt_number": 48,
       "text": [
        "LinearRegression(copy_X=True, fit_intercept=True, normalize=False)"
       ]
      }
     ],
     "prompt_number": 48
    },
    {
     "cell_type": "code",
     "collapsed": false,
     "input": [
      "reg.coef_"
     ],
     "language": "python",
     "metadata": {},
     "outputs": [
      {
       "metadata": {},
       "output_type": "pyout",
       "prompt_number": 49,
       "text": [
        "array([[ 5.07793064]])"
       ]
      }
     ],
     "prompt_number": 49
    },
    {
     "cell_type": "code",
     "collapsed": false,
     "input": [
      "print \"Score (test data)\", reg.score(ages_test,net_worths_test)"
     ],
     "language": "python",
     "metadata": {},
     "outputs": [
      {
       "output_type": "stream",
       "stream": "stdout",
       "text": [
        "Score (test data) 0.878262470366\n"
       ]
      }
     ],
     "prompt_number": 50
    },
    {
     "cell_type": "code",
     "collapsed": false,
     "input": [
      "plt.plot(ages, reg.predict(ages), color=\"blue\")\n",
      "plt.scatter(ages, net_worths)\n",
      "plt.show()"
     ],
     "language": "python",
     "metadata": {},
     "outputs": [
      {
       "metadata": {},
       "output_type": "display_data",
       "png": "[encoded data removed]",
       "text": [
        "<matplotlib.figure.Figure at 0x10d8ae890>"
       ]
      }
     ],
     "prompt_number": 51
    },
    {
     "cell_type": "code",
     "collapsed": false,
     "input": [
      "predictions = reg.predict(ages_train)\n",
      "cleaned_data = outlierCleaner( predictions, ages_train, net_worths_train )\n"
     ],
     "language": "python",
     "metadata": {},
     "outputs": [],
     "prompt_number": 52
    },
    {
     "cell_type": "code",
     "collapsed": false,
     "input": [
      "ages, net_worths, errors = zip(*cleaned_data)\n",
      "ages       = numpy.reshape( numpy.array(ages), (len(ages), 1))\n",
      "net_worths = numpy.reshape( numpy.array(net_worths), (len(net_worths), 1))"
     ],
     "language": "python",
     "metadata": {},
     "outputs": [],
     "prompt_number": 53
    },
    {
     "cell_type": "code",
     "collapsed": false,
     "input": [
      "reg.fit(ages, net_worths)\n",
      "plt.plot(ages, reg.predict(ages), color=\"blue\")\n",
      "plt.scatter(ages, net_worths)\n",
      "plt.xlabel(\"ages\")\n",
      "plt.ylabel(\"net worths\")\n",
      "plt.show()"
     ],
     "language": "python",
     "metadata": {},
     "outputs": [
      {
       "metadata": {},
       "output_type": "display_data",
       "png": "[encoded data removed]",
       "text": [
        "<matplotlib.figure.Figure at 0x10d822e50>"
       ]
      }
     ],
     "prompt_number": 54
    },
    {
     "cell_type": "code",
     "collapsed": false,
     "input": [
      "print \"The new Slope, after removing the outliers\", reg.coef_"
     ],
     "language": "python",
     "metadata": {},
     "outputs": [
      {
       "output_type": "stream",
       "stream": "stdout",
       "text": [
        "The new Slope, after removing the outliers [[ 6.36859481]]\n"
       ]
      }
     ],
     "prompt_number": 55
    },
    {
     "cell_type": "code",
     "collapsed": false,
     "input": [
      "cleaned = outlierCleaner(reg.predict(ages_train),ages_train,net_worths_train)"
     ],
     "language": "python",
     "metadata": {},
     "outputs": [],
     "prompt_number": 56
    },
    {
     "cell_type": "code",
     "collapsed": false,
     "input": [
      "age_cleaned = numpy.array([e[0] for e in cleaned])"
     ],
     "language": "python",
     "metadata": {},
     "outputs": [],
     "prompt_number": 59
    },
    {
     "cell_type": "code",
     "collapsed": false,
     "input": [
      "net_worth_cleaned = numpy.array([e[1] for e in cleaned])"
     ],
     "language": "python",
     "metadata": {},
     "outputs": [],
     "prompt_number": 60
    },
    {
     "cell_type": "code",
     "collapsed": false,
     "input": [
      "reg.fit(age_cleaned,net_worth_cleaned)"
     ],
     "language": "python",
     "metadata": {},
     "outputs": [
      {
       "metadata": {},
       "output_type": "pyout",
       "prompt_number": 61,
       "text": [
        "LinearRegression(copy_X=True, fit_intercept=True, normalize=False)"
       ]
      }
     ],
     "prompt_number": 61
    },
    {
     "cell_type": "code",
     "collapsed": false,
     "input": [
      "print \"The score on the test data, after removing the outliers\", reg.score(ages_test,net_worths_test)"
     ],
     "language": "python",
     "metadata": {},
     "outputs": [
      {
       "output_type": "stream",
       "stream": "stdout",
       "text": [
        "The score on the test data, after removing the outliers 0.983189455396\n"
       ]
      }
     ],
     "prompt_number": 63
    },
    {
     "cell_type": "code",
     "collapsed": false,
     "input": [],
     "language": "python",
     "metadata": {},
     "outputs": []
    },
    {
     "cell_type": "markdown",
     "metadata": {},
     "source": [
      "Since there are two features being extracted from the dictionary (\u201csalary\u201d and \u201cbonus\u201d), the resulting numpy array will be of dimension N x 2, where N is the number of data points and 2 is the number of features. This is perfect input for a scatterplot; we\u2019ll use the matplotlib.pyplot module to make that plot. (We\u2019ve been using pyplot for all the visualizations in this course.)"
     ]
    },
    {
     "cell_type": "code",
     "collapsed": false,
     "input": [
      "import pickle\n",
      "import sys\n",
      "import matplotlib.pyplot\n",
      "sys.path.append(\"/Users/olehdubno/Desktop/ud120-projects-master/tools/\")\n",
      "from feature_format import featureFormat, targetFeatureSplit\n",
      "\n",
      "\n",
      "### read in data dictionary, convert to numpy array\n",
      "data_dict = pickle.load( open(\"/Users/olehdubno/Desktop/ud120-projects-master/final_project/final_project_dataset.pkl\", \"r\") )\n",
      "features = [\"salary\", \"bonus\"]\n",
      "data = featureFormat(data_dict, features)\n",
      "\n"
     ],
     "language": "python",
     "metadata": {},
     "outputs": [],
     "prompt_number": 66
    },
    {
     "cell_type": "code",
     "collapsed": false,
     "input": [
      "#make sure to convert your data into a nympy.ndarray\n",
      "type(data)"
     ],
     "language": "python",
     "metadata": {},
     "outputs": [
      {
       "metadata": {},
       "output_type": "pyout",
       "prompt_number": 72,
       "text": [
        "numpy.ndarray"
       ]
      }
     ],
     "prompt_number": 72
    },
    {
     "cell_type": "code",
     "collapsed": false,
     "input": [
      "for point in data:\n",
      "    salary = point[0]\n",
      "    bonus = point[1]\n",
      "    plt.scatter(salary,bonus)\n",
      "    \n",
      "plt.xlabel(\"salary\")\n",
      "plt.ylabel(\"bonus\")\n",
      "plt.show()"
     ],
     "language": "python",
     "metadata": {},
     "outputs": [
      {
       "metadata": {},
       "output_type": "display_data",
       "png": "[encoded data removed]",
       "text": [
        "<matplotlib.figure.Figure at 0x10d9523d0>"
       ]
      }
     ],
     "prompt_number": 86
    },
    {
     "cell_type": "code",
     "collapsed": true,
     "input": [
      "outliers = []\n",
      "for key in data_dict:\n",
      "    val = data_dict[key]['salary']\n",
      "    if val == 'NaN':\n",
      "        continue \n",
      "    \n",
      "    outliers.append((key,int(val)))\n",
      "    \n",
      "outliers_final = (sorted(outliers,key=lambda x:x[1],reverse=True)[:2])"
     ],
     "language": "python",
     "metadata": {},
     "outputs": [],
     "prompt_number": 112
    },
    {
     "cell_type": "code",
     "collapsed": true,
     "input": [
      "outliers_final"
     ],
     "language": "python",
     "metadata": {},
     "outputs": [
      {
       "metadata": {},
       "output_type": "pyout",
       "prompt_number": 113,
       "text": [
        "[('SKILLING JEFFREY K', 1111258), ('LAY KENNETH L', 1072321)]"
       ]
      }
     ],
     "prompt_number": 113
    },
    {
     "cell_type": "code",
     "collapsed": false,
     "input": [
      "#removes the data point \"TOTAL\"\n",
      "data_dict.pop('TOTAL',0)\n",
      "\n",
      "data = featureFormat(data_dict, features)"
     ],
     "language": "python",
     "metadata": {},
     "outputs": [],
     "prompt_number": 114
    },
    {
     "cell_type": "code",
     "collapsed": false,
     "input": [
      "for point in data:\n",
      "    salary = point[0]\n",
      "    bonus = point[1]\n",
      "    plt.scatter(salary,bonus)\n",
      "    \n",
      "plt.xlabel('salary')\n",
      "plt.ylabel('bonus')"
     ],
     "language": "python",
     "metadata": {},
     "outputs": [
      {
       "metadata": {},
       "output_type": "pyout",
       "prompt_number": 116,
       "text": [
        "<matplotlib.text.Text at 0x10e597e10>"
       ]
      },
      {
       "metadata": {},
       "output_type": "display_data",
       "png": "[encoded data removed]",
       "text": [
        "<matplotlib.figure.Figure at 0x10d952190>"
       ]
      }
     ],
     "prompt_number": 116
    },
    {
     "cell_type": "code",
     "collapsed": false,
     "input": [],
     "language": "python",
     "metadata": {},
     "outputs": []
    }
   ],
   "metadata": {}
  }
 ]
}