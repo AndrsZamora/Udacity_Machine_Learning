{
 "metadata": {
  "name": "",
  "signature": "sha256:3bcf7eefd14a6a8c218e617ccacd5886511be7e5ceea2f8ab6f8732631fb57d7"
 },
 "nbformat": 3,
 "nbformat_minor": 0,
 "worksheets": [
  {
   "cells": [
    {
     "cell_type": "code",
     "collapsed": false,
     "input": [
      "#!/usr/bin/python\n",
      "\n",
      "import pickle\n",
      "import numpy\n",
      "\n",
      "from sklearn import cross_validation\n",
      "from sklearn.feature_extraction.text import TfidfVectorizer\n",
      "from sklearn.feature_selection import SelectPercentile, f_classif\n",
      "\n",
      "\n",
      "\n",
      "def preprocess(words_file = \"/Users/olehdubno/Desktop/ud120-projects-master/tools/word_data.pkl\", authors_file=\"/Users/olehdubno/Desktop/ud120-projects-master/tools/email_authors.pkl\"):\n",
      "    \"\"\" \n",
      "        this function takes a pre-made list of email texts (by default word_data.pkl)\n",
      "        and the corresponding authors (by default email_authors.pkl) and performs\n",
      "        a number of preprocessing steps:\n",
      "            -- splits into training/testing sets (10% testing)\n",
      "            -- vectorizes into tfidf matrix\n",
      "            -- selects/keeps most helpful features\n",
      "\n",
      "        after this, the feaures and labels are put into numpy arrays, which play nice with sklearn functions\n",
      "\n",
      "        4 objects are returned:\n",
      "            -- training/testing features\n",
      "            -- training/testing labels\n",
      "\n",
      "    \"\"\"\n",
      "\n",
      "    ### the words (features) and authors (labels), already largely preprocessed\n",
      "    ### this preprocessing will be repeated in the text learning mini-project\n",
      "    word_data = pickle.load( open(words_file, \"r\"))\n",
      "    authors = pickle.load( open(authors_file, \"r\") )\n",
      "\n",
      "    ### test_size is the percentage of events assigned to the test set (remainder go into training)\n",
      "    features_train, features_test, labels_train, labels_test = cross_validation.train_test_split(word_data, authors, test_size=0.1, random_state=42)\n",
      "\n",
      "\n",
      "\n",
      "    ### text vectorization--go from strings to lists of numbers\n",
      "    vectorizer = TfidfVectorizer(sublinear_tf=True, max_df=0.5,\n",
      "                                 stop_words='english')\n",
      "    features_train_transformed = vectorizer.fit_transform(features_train)\n",
      "    features_test_transformed  = vectorizer.transform(features_test)\n",
      "\n",
      "\n",
      "\n",
      "    ### feature selection, because text is super high dimensional and \n",
      "    ### can be really computationally chewy as a result\n",
      "    selector = SelectPercentile(f_classif, percentile=10)\n",
      "    selector.fit(features_train_transformed, labels_train)\n",
      "    features_train_transformed = selector.transform(features_train_transformed).toarray()\n",
      "    features_test_transformed  = selector.transform(features_test_transformed).toarray()\n",
      "\n",
      "    ### info on the data\n",
      "    print \"no. of Chris training emails:\", sum(labels_train)\n",
      "    print \"no. of Sara training emails:\", len(labels_train)-sum(labels_train)\n",
      "\n",
      "\n",
      "    return features_train_transformed, features_test_transformed, labels_train, labels_test\n"
     ],
     "language": "python",
     "metadata": {},
     "outputs": [],
     "prompt_number": 4
    },
    {
     "cell_type": "code",
     "collapsed": false,
     "input": [
      "#!/usr/bin/python\n",
      "\n",
      "\"\"\" \n",
      "    this is the code to accompany the Lesson 1 (Naive Bayes) mini-project \n",
      "\n",
      "    use a Naive Bayes Classifier to identify emails by their authors\n",
      "    \n",
      "    authors and labels:\n",
      "    Sara has label 0\n",
      "    Chris has label 1\n",
      "\n",
      "\"\"\"\n",
      "    \n",
      "import sys\n",
      "from time import time\n",
      "\n",
      "\n",
      "### features_train and features_test are the features for the training\n",
      "### and testing datasets, respectively\n",
      "### labels_train and labels_test are the corresponding item labels\n",
      "features_train, features_test, labels_train, labels_test = preprocess()\n",
      "\n",
      "\n",
      "\n",
      "\n",
      "#########################################################\n",
      "### your code goes here ###\n",
      "\n",
      "from sklearn.naive_bayes import GaussianNB\n",
      "\n",
      "clf = GaussianNB()\n",
      "\n",
      "t0 = time()\n",
      "clf.fit(features_train,labels_train)\n",
      "print 'training time',round(time()-t0,3) ,'s'\n",
      "t0 = time()\n",
      "print clf.score(features_test,labels_test)\n",
      "print 'predicting time', round(time()-t0,3),'s'\n",
      "\n"
     ],
     "language": "python",
     "metadata": {},
     "outputs": [
      {
       "output_type": "stream",
       "stream": "stderr",
       "text": [
        "/Users/olehdubno/anaconda/lib/python2.7/site-packages/numpy/lib/utils.py:95: DeprecationWarning: `fprob` is deprecated!\n",
        "fprob is deprecated in scipy 0.14, use stats.f.sf or special.fdtrc instead\n",
        "\n",
        "  warnings.warn(depdoc, DeprecationWarning)\n",
        "/Users/olehdubno/anaconda/lib/python2.7/site-packages/sklearn/feature_selection/univariate_selection.py:319: UserWarning: Duplicate scores. Result may depend on feature ordering.There are probably duplicate features, or you used a classification score for a regression task.\n",
        "  warn(\"Duplicate scores. Result may depend on feature ordering.\"\n"
       ]
      },
      {
       "output_type": "stream",
       "stream": "stdout",
       "text": [
        "no. of Chris training emails: 7936\n",
        "no. of Sara training emails: 7884\n",
        "training time"
       ]
      },
      {
       "output_type": "stream",
       "stream": "stdout",
       "text": [
        " 1.145 s\n",
        "0.973833902162"
       ]
      },
      {
       "output_type": "stream",
       "stream": "stdout",
       "text": [
        "\n",
        "predicting time 0.191 s\n"
       ]
      }
     ],
     "prompt_number": 5
    },
    {
     "cell_type": "code",
     "collapsed": false,
     "input": [
      "clf.predict(features_test)"
     ],
     "language": "python",
     "metadata": {},
     "outputs": [
      {
       "metadata": {},
       "output_type": "pyout",
       "prompt_number": 6,
       "text": [
        "array([0, 0, 1, ..., 1, 0, 0])"
       ]
      }
     ],
     "prompt_number": 6
    },
    {
     "cell_type": "code",
     "collapsed": false,
     "input": [],
     "language": "python",
     "metadata": {},
     "outputs": []
    }
   ],
   "metadata": {}
  }
 ]
}