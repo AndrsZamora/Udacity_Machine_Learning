{
 "metadata": {
  "name": "",
  "signature": "sha256:7c5be9e496423eec337f0a902903624e1caf6a12ff1f3a51a4abded3d4f01980"
 },
 "nbformat": 3,
 "nbformat_minor": 0,
 "worksheets": [
  {
   "cells": [
    {
     "cell_type": "markdown",
     "metadata": {},
     "source": [
      "#Support Vector Machine"
     ]
    },
    {
     "cell_type": "markdown",
     "metadata": {},
     "source": [
      "invented by a russian. very popular algorithm"
     ]
    },
    {
     "cell_type": "markdown",
     "metadata": {},
     "source": [
      "svm generates a best line that divides the points. the line maximizes the distance to the nearest point. the line is in the middle between the best points.\n",
      "\n",
      "the line maximizes the distance to the nearest point. this is called margin.\n",
      "\n",
      "svm is somewhat robust against outliers. ignores outliers.\n",
      "\n",
      "Support vector machines (SVMs) are a set of supervised learning methods used for classification, regression and outliers detection."
     ]
    },
    {
     "cell_type": "markdown",
     "metadata": {},
     "source": [
      "SVM is a classifier that built to give us linear seperation.\n"
     ]
    },
    {
     "cell_type": "markdown",
     "metadata": {},
     "source": [
      "SVM has different kernels. Kernels seperate your data points. eg Linear rbf, poly, sigmoid,....."
     ]
    },
    {
     "cell_type": "markdown",
     "metadata": {},
     "source": [
      "C parameter controls the tradeoff between smooth decision boundary and classifying training points correctly\n",
      "\n",
      "(C=1.0 is the default)\n",
      "\n",
      "The larger the C the more training points are correct. The smaller the C the smoother the boundary. With a large C you get a more intricate boundary envelping the different points."
     ]
    },
    {
     "cell_type": "markdown",
     "metadata": {},
     "source": [
      "Overtfitting is when your data is over classified and the boundary line envelopes unecessary space where you have no data."
     ]
    },
    {
     "cell_type": "code",
     "collapsed": false,
     "input": [],
     "language": "python",
     "metadata": {},
     "outputs": []
    }
   ],
   "metadata": {}
  }
 ]
}