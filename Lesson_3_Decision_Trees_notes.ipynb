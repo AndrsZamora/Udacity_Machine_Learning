{
 "metadata": {
  "name": "",
  "signature": "sha256:483713e0bfd7e5f93a6a5e421119520f67e8b7768bd5164a246b1019700a6b7f"
 },
 "nbformat": 3,
 "nbformat_minor": 0,
 "worksheets": [
  {
   "cells": [
    {
     "cell_type": "markdown",
     "metadata": {},
     "source": [
      "#Decision Trees"
     ]
    },
    {
     "cell_type": "markdown",
     "metadata": {},
     "source": [
      "Decision trees help you classify data. They break the structure of the data into yes and no."
     ]
    },
    {
     "cell_type": "markdown",
     "metadata": {},
     "source": [
      "sklearn documentation on Decision trees:\n",
      "    \n",
      "http://scikit-learn.org/stable/modules/tree.html"
     ]
    },
    {
     "cell_type": "markdown",
     "metadata": {},
     "source": [
      "DecisionTreeClassifier is a class capable of performing multi-class classification on a dataset."
     ]
    },
    {
     "cell_type": "code",
     "collapsed": false,
     "input": [
      "%pylab inline\n",
      "import sys\n",
      "sys.path.append('/Users/olehdubno/Desktop/ud120-projects-master/tools/')"
     ],
     "language": "python",
     "metadata": {},
     "outputs": [
      {
       "output_type": "stream",
       "stream": "stdout",
       "text": [
        "Populating the interactive namespace from numpy and matplotlib\n"
       ]
      }
     ],
     "prompt_number": 77
    },
    {
     "cell_type": "code",
     "collapsed": false,
     "input": [
      "#example code in ClassifyDT.py to see how we pull in the decision tree\n",
      "#this cell isn't important to run if you're importing the file\n",
      "#%%writefile classifyDT.py\n",
      "\n",
      "def classify(features_train, labels_train):\n",
      "    from sklearn import tree\n",
      "    clf = tree.DecisionTreeClassifier()\n",
      "    clf.fit(features_train, labels_train)\n",
      "    \n",
      "    return clf"
     ],
     "language": "python",
     "metadata": {},
     "outputs": [],
     "prompt_number": 78
    },
    {
     "cell_type": "code",
     "collapsed": false,
     "input": [
      "sys.path.append('/Users/olehdubno/Desktop/ud120-projects-master/choose_your_own/')\n",
      "import sys\n",
      "from class_vis import prettyPicture, output_image\n",
      "from prep_terrain_data import makeTerrainData\n",
      "\n",
      "import matplotlib.pyplot as plt\n",
      "import numpy as np\n",
      "import pylab as pl\n",
      "#from classifyDT import classify"
     ],
     "language": "python",
     "metadata": {},
     "outputs": [],
     "prompt_number": 79
    },
    {
     "cell_type": "code",
     "collapsed": false,
     "input": [
      "features_train, labels_train, features_test, labels_test = makeTerrainData()\n"
     ],
     "language": "python",
     "metadata": {},
     "outputs": [],
     "prompt_number": 80
    },
    {
     "cell_type": "code",
     "collapsed": false,
     "input": [
      "### the classify() function in classifyDT is where the magic\n",
      "### happens--it's your job to fill this in!\n",
      "clf = classify(features_train, labels_train)\n",
      "\n",
      "# clf = tree.DecisionTreeClassifier()\n",
      "# clf.fit(features_train, labels_train)\n",
      "#### grader code, do not modify below this line\n",
      "\n",
      "prettyPicture(clf, features_test, labels_test)\n",
      "# output_image(\"test.png\", \"png\", open(\"test.png\", \"rb\").read())"
     ],
     "language": "python",
     "metadata": {},
     "outputs": [
      {
       "metadata": {},
       "output_type": "display_data",
       "png": "[encoded data removed]",
       "text": [
        "<matplotlib.figure.Figure at 0x108e24bd0>"
       ]
      }
     ],
     "prompt_number": 81
    },
    {
     "cell_type": "code",
     "collapsed": false,
     "input": [
      "clf.score(features_test,labels_test)"
     ],
     "language": "python",
     "metadata": {},
     "outputs": [
      {
       "metadata": {},
       "output_type": "pyout",
       "prompt_number": 83,
       "text": [
        "0.90800000000000003"
       ]
      }
     ],
     "prompt_number": 83
    },
    {
     "cell_type": "markdown",
     "metadata": {},
     "source": [
      "#How can we get this number a little bit better?"
     ]
    },
    {
     "cell_type": "markdown",
     "metadata": {},
     "source": [
      "Let's take a closer look at the DecisionTree parameters:\n",
      "\n",
      "####min_samples_split : \n",
      "int, optional (default=2)\n",
      "\n",
      "The minimum number of samples required to split an internal node.\n",
      "\n",
      "for each bottom node in the tree, should we continue to split it? are there enough sameples to continue to split further. default is 2.\n",
      "\n",
      "\n",
      "min_samples_split and overfitting."
     ]
    },
    {
     "cell_type": "code",
     "collapsed": false,
     "input": [
      "%pylab inline\n",
      "import sys\n",
      "sys.path.append('/Users/olehdubno/Desktop/ud120-projects-master/tools/')"
     ],
     "language": "python",
     "metadata": {},
     "outputs": [
      {
       "output_type": "stream",
       "stream": "stdout",
       "text": [
        "Populating the interactive namespace from numpy and matplotlib\n"
       ]
      }
     ],
     "prompt_number": 89
    },
    {
     "cell_type": "code",
     "collapsed": false,
     "input": [
      "#example code in ClassifyDT.py to see how we pull in the decision tree\n",
      "#this cell isn't important to run if you're importing the file\n",
      "#%%writefile classifyDT.py\n",
      "\n",
      "#here i changed the min_samples_split to 50\n",
      "#this stops the splitting at 50 as apose to the default of 2\n",
      "#default of 2 is more intricate and continues to split which could\n",
      "#lead to overfitting\n",
      "\n",
      "#wit the min_samples_split=50, you have to have at least 50 samples in the branch or you will\n",
      "#not be able to fit it \n",
      "\n",
      "def classify(features_train, labels_train):\n",
      "    from sklearn import tree\n",
      "    clf = tree.DecisionTreeClassifier(min_samples_split=50)\n",
      "    clf.fit(features_train, labels_train)\n",
      "    \n",
      "    return clf"
     ],
     "language": "python",
     "metadata": {},
     "outputs": [],
     "prompt_number": 95
    },
    {
     "cell_type": "code",
     "collapsed": false,
     "input": [
      "sys.path.append('/Users/olehdubno/Desktop/ud120-projects-master/choose_your_own/')\n",
      "import sys\n",
      "from class_vis import prettyPicture, output_image\n",
      "from prep_terrain_data import makeTerrainData\n",
      "\n",
      "import matplotlib.pyplot as plt\n",
      "import numpy as np\n",
      "import pylab as pl\n",
      "#from classifyDT import classify"
     ],
     "language": "python",
     "metadata": {},
     "outputs": [],
     "prompt_number": 96
    },
    {
     "cell_type": "code",
     "collapsed": false,
     "input": [
      "features_train, labels_train, features_test, labels_test = makeTerrainData()"
     ],
     "language": "python",
     "metadata": {},
     "outputs": [],
     "prompt_number": 97
    },
    {
     "cell_type": "code",
     "collapsed": false,
     "input": [
      "### the classify() function in classifyDT is where the magic\n",
      "### happens--it's your job to fill this in!\n",
      "clf = classify(features_train, labels_train)\n",
      "\n",
      "# clf = tree.DecisionTreeClassifier()\n",
      "# clf.fit(features_train, labels_train)\n",
      "#### grader code, do not modify below this line\n",
      "\n",
      "prettyPicture(clf, features_test, labels_test)\n",
      "# output_image(\"test.png\", \"png\", open(\"test.png\", \"rb\").read())"
     ],
     "language": "python",
     "metadata": {},
     "outputs": [
      {
       "metadata": {},
       "output_type": "display_data",
       "png": "[encoded data removed]",
       "text": [
        "<matplotlib.figure.Figure at 0x105af7710>"
       ]
      }
     ],
     "prompt_number": 98
    },
    {
     "cell_type": "code",
     "collapsed": false,
     "input": [
      "clf.score(features_test,labels_test)"
     ],
     "language": "python",
     "metadata": {},
     "outputs": [
      {
       "metadata": {},
       "output_type": "pyout",
       "prompt_number": 99,
       "text": [
        "0.91200000000000003"
       ]
      }
     ],
     "prompt_number": 99
    },
    {
     "cell_type": "markdown",
     "metadata": {},
     "source": [
      "##The score improved by a fairly good precentage"
     ]
    },
    {
     "cell_type": "markdown",
     "metadata": {},
     "source": [
      "#Entropy (Very important for the Decision Tree)\n",
      "\n",
      "Entropy pretty much decides where to split the data.\n",
      "\n",
      "It's a measure of impurity in a bunch of examples.\n",
      "\n",
      "Entropy is opposite of purity. "
     ]
    },
    {
     "cell_type": "code",
     "collapsed": false,
     "input": [
      "from __future__ import division\n",
      "import math"
     ],
     "language": "python",
     "metadata": {},
     "outputs": [],
     "prompt_number": 104
    },
    {
     "cell_type": "markdown",
     "metadata": {},
     "source": [
      "very good linl on entropy:\n",
      "http://www.saedsayad.com/decision_tree.htm\n",
      "\n",
      "calculating entropy:"
     ]
    },
    {
     "cell_type": "code",
     "collapsed": false,
     "input": [
      "\n",
      "-0.5*math.log(0.5,2) - 0.5*math.log(0.5,2)"
     ],
     "language": "python",
     "metadata": {},
     "outputs": [
      {
       "metadata": {},
       "output_type": "pyout",
       "prompt_number": 106,
       "text": [
        "1.0"
       ]
      }
     ],
     "prompt_number": 106
    },
    {
     "cell_type": "markdown",
     "metadata": {},
     "source": [
      "#Information gain:\n",
      "\n",
      "defineted as the entropy of the parent - the weighted avg of the entropy of the children that would result if you split that parent.\n",
      "\n",
      "will maximize information gain.\n",
      "\n",
      "###information gain = entropy(parent) - [weighted avg]entropy(children)\n"
     ]
    },
    {
     "cell_type": "code",
     "collapsed": false,
     "input": [
      "entropy_grade = -(2/3)*math.log((2/3),2) - (1/3)*math.log((1/3),2)"
     ],
     "language": "python",
     "metadata": {},
     "outputs": [],
     "prompt_number": 132
    },
    {
     "cell_type": "code",
     "collapsed": false,
     "input": [
      "entropy_grade"
     ],
     "language": "python",
     "metadata": {},
     "outputs": [
      {
       "metadata": {},
       "output_type": "pyout",
       "prompt_number": 136,
       "text": [
        "0.9182958340544896"
       ]
      }
     ],
     "prompt_number": 136
    },
    {
     "cell_type": "code",
     "collapsed": false,
     "input": [
      "entropy_grade_children = ((3/4) * entropy_grade) - ((1/4)*0)"
     ],
     "language": "python",
     "metadata": {},
     "outputs": [],
     "prompt_number": 133
    },
    {
     "cell_type": "code",
     "collapsed": false,
     "input": [
      "information_gain_grade = 1 - entropy_grade_children #1 because that's the entropy that we started with"
     ],
     "language": "python",
     "metadata": {},
     "outputs": [],
     "prompt_number": 137
    },
    {
     "cell_type": "code",
     "collapsed": false,
     "input": [
      "information_gain_grade"
     ],
     "language": "python",
     "metadata": {},
     "outputs": [
      {
       "metadata": {},
       "output_type": "pyout",
       "prompt_number": 138,
       "text": [
        "0.31127812445913283"
       ]
      }
     ],
     "prompt_number": 138
    },
    {
     "cell_type": "code",
     "collapsed": false,
     "input": [
      "entropy_speed_limit = -(1)*math.log((1),2) - (1)*math.log((1),2)"
     ],
     "language": "python",
     "metadata": {},
     "outputs": [],
     "prompt_number": 142
    },
    {
     "cell_type": "code",
     "collapsed": false,
     "input": [
      "entropy_speed_limit"
     ],
     "language": "python",
     "metadata": {},
     "outputs": [
      {
       "metadata": {},
       "output_type": "pyout",
       "prompt_number": 143,
       "text": [
        "-0.0"
       ]
      }
     ],
     "prompt_number": 143
    },
    {
     "cell_type": "code",
     "collapsed": false,
     "input": [
      "entropy_speed_children = ((2/4)*entropy_speed_limit) - ((2/4)*entropy_speed_limit)"
     ],
     "language": "python",
     "metadata": {},
     "outputs": [],
     "prompt_number": 146
    },
    {
     "cell_type": "code",
     "collapsed": false,
     "input": [
      "entropy_speed_children"
     ],
     "language": "python",
     "metadata": {},
     "outputs": [
      {
       "metadata": {},
       "output_type": "pyout",
       "prompt_number": 148,
       "text": [
        "0.0"
       ]
      }
     ],
     "prompt_number": 148
    },
    {
     "cell_type": "code",
     "collapsed": false,
     "input": [
      "#we subtract from 1, because 1 is the entrop we got initially for speed.\n",
      "information_gain_speed_limit = 1 - entropy_speed_children"
     ],
     "language": "python",
     "metadata": {},
     "outputs": [],
     "prompt_number": 151
    },
    {
     "cell_type": "code",
     "collapsed": false,
     "input": [
      "\n",
      "information_gain_speed_limit"
     ],
     "language": "python",
     "metadata": {},
     "outputs": [
      {
       "metadata": {},
       "output_type": "pyout",
       "prompt_number": 152,
       "text": [
        "1.0"
       ]
      }
     ],
     "prompt_number": 152
    },
    {
     "cell_type": "markdown",
     "metadata": {},
     "source": [
      "information gain in decision trees:\n",
      "\n",
      "the dt looks at all the training examples all of the diff features avaialble and uses info gain to make splits."
     ]
    },
    {
     "cell_type": "markdown",
     "metadata": {},
     "source": [
      "### criterion = \"gini\" (default) would have to enter entropy yourself"
     ]
    },
    {
     "cell_type": "markdown",
     "metadata": {},
     "source": [
      "#Entropy & Information Gain with Decision Trees\n",
      "refer to http://www.saedsayad.com/decision_tree.htm"
     ]
    },
    {
     "cell_type": "markdown",
     "metadata": {},
     "source": [
      "Important to note DT could handle both categorical and numerical data."
     ]
    },
    {
     "cell_type": "code",
     "collapsed": false,
     "input": [
      "from __future__ import division\n",
      "import math"
     ],
     "language": "python",
     "metadata": {},
     "outputs": [],
     "prompt_number": 162
    },
    {
     "cell_type": "code",
     "collapsed": false,
     "input": [
      "from IPython.display import Image, display_png\n",
      "Image(url='http://www.saedsayad.com/images/Entropy_3.png')"
     ],
     "language": "python",
     "metadata": {},
     "outputs": [
      {
       "html": [
        "<img src=\"http://www.saedsayad.com/images/Entropy_3.png\"/>"
       ],
       "metadata": {},
       "output_type": "pyout",
       "prompt_number": 160,
       "text": [
        "<IPython.core.display.Image at 0x105c5c610>"
       ]
      }
     ],
     "prompt_number": 160
    },
    {
     "cell_type": "code",
     "collapsed": false,
     "input": [
      "entropy_playgolf = -(5/14)*math.log((5/14),2) - (9/14)*math.log((9/14),2)"
     ],
     "language": "python",
     "metadata": {},
     "outputs": [],
     "prompt_number": 165
    },
    {
     "cell_type": "code",
     "collapsed": false,
     "input": [
      "entropy_playgolf"
     ],
     "language": "python",
     "metadata": {},
     "outputs": [
      {
       "metadata": {},
       "output_type": "pyout",
       "prompt_number": 166,
       "text": [
        "0.9402859586706309"
       ]
      }
     ],
     "prompt_number": 166
    },
    {
     "cell_type": "code",
     "collapsed": false,
     "input": [],
     "language": "python",
     "metadata": {},
     "outputs": []
    },
    {
     "cell_type": "code",
     "collapsed": false,
     "input": [],
     "language": "python",
     "metadata": {},
     "outputs": []
    },
    {
     "cell_type": "code",
     "collapsed": false,
     "input": [],
     "language": "python",
     "metadata": {},
     "outputs": []
    },
    {
     "cell_type": "code",
     "collapsed": false,
     "input": [],
     "language": "python",
     "metadata": {},
     "outputs": []
    },
    {
     "cell_type": "code",
     "collapsed": false,
     "input": [],
     "language": "python",
     "metadata": {},
     "outputs": []
    },
    {
     "cell_type": "code",
     "collapsed": false,
     "input": [
      "Image(url='http://www.saedsayad.com/images/Entropy_2.png')"
     ],
     "language": "python",
     "metadata": {},
     "outputs": [
      {
       "html": [
        "<img src=\"http://www.saedsayad.com/images/Entropy_2.png\"/>"
       ],
       "metadata": {},
       "output_type": "pyout",
       "prompt_number": 161,
       "text": [
        "<IPython.core.display.Image at 0x105c5c4d0>"
       ]
      }
     ],
     "prompt_number": 161
    },
    {
     "cell_type": "code",
     "collapsed": false,
     "input": [],
     "language": "python",
     "metadata": {},
     "outputs": []
    }
   ],
   "metadata": {}
  }
 ]
}