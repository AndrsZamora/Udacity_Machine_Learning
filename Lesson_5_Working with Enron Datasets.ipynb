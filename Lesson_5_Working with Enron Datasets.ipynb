{
 "metadata": {
  "name": "",
  "signature": "sha256:cdf927449ade583e3aa41aae2d220aa25b16b62add611b3c7370130dd24ea85a"
 },
 "nbformat": 3,
 "nbformat_minor": 0,
 "worksheets": [
  {
   "cells": [
    {
     "cell_type": "markdown",
     "metadata": {},
     "source": []
    },
    {
     "cell_type": "markdown",
     "metadata": {},
     "source": [
      "####What is the person of interest:\n",
      "\n",
      "indicted; settled without admitting guilt; testified in exchange for immunity"
     ]
    },
    {
     "cell_type": "markdown",
     "metadata": {},
     "source": [
      "The Data Set:\n",
      "\n",
      "Lot's of e-mails\n"
     ]
    },
    {
     "cell_type": "markdown",
     "metadata": {},
     "source": [
      "Below, I'm loading Enron dataset (emails and finances)\n",
      "The dataset is stored in a pickle file. Which will require importing of pickle to export it.\n",
      "\n",
      "The form of the dataset:\n",
      "\n",
      "enron_data[\"LASTNAME FIRSTNAME MIDDLEINITIAL\"] = { features_dict }\n",
      "\n",
      "features_dict contains features associated with that person."
     ]
    },
    {
     "cell_type": "code",
     "collapsed": false,
     "input": [
      "import pickle\n",
      "\n",
      "enron_data = pickle.load(open(\"/Users/olehdubno/Desktop/ud120-projects-master/final_project/final_project_dataset.pkl\", \"r\"))"
     ],
     "language": "python",
     "metadata": {},
     "outputs": [],
     "prompt_number": 2
    },
    {
     "cell_type": "markdown",
     "metadata": {},
     "source": [
      "###Features\n",
      "\n",
      "salary\n",
      "to_messages\n",
      "deferral_payments\n",
      "total_payments\n",
      "exercised_stock_options\n",
      "bonus\n",
      "restricted_stock\n",
      "shared_receipt_with_poi\n",
      "restricted_stock_deferred\n",
      "total_stock_value\n",
      "expenses\n",
      "loan_advances\n",
      "from_messages\n",
      "other\n",
      "from_this_person_to_poi\n",
      "poi : whether the person is a person of interest\n",
      "director_fees\n",
      "deferred_income\n",
      "long_term_incentive\n",
      "email_address\n",
      "from_poi_to_this_person"
     ]
    },
    {
     "cell_type": "markdown",
     "metadata": {},
     "source": [
      "How many data points are in the Enron dataset? 146"
     ]
    },
    {
     "cell_type": "code",
     "collapsed": false,
     "input": [
      "len(enron_data)"
     ],
     "language": "python",
     "metadata": {},
     "outputs": [
      {
       "metadata": {},
       "output_type": "pyout",
       "prompt_number": 31,
       "text": [
        "146"
       ]
      }
     ],
     "prompt_number": 31
    },
    {
     "cell_type": "markdown",
     "metadata": {},
     "source": [
      "For each person, how many features are available? 21 features.\n",
      "\n",
      "Below are two ways out of many of discovering this. Using the \"set\" function id allows us to identify unique values. Without it we'd just get the total."
     ]
    },
    {
     "cell_type": "code",
     "collapsed": false,
     "input": [
      "set(len(v) for v in enron_data.itervalues())"
     ],
     "language": "python",
     "metadata": {},
     "outputs": [
      {
       "metadata": {},
       "output_type": "pyout",
       "prompt_number": 43,
       "text": [
        "{21}"
       ]
      }
     ],
     "prompt_number": 43
    },
    {
     "cell_type": "code",
     "collapsed": false,
     "input": [
      "set(map(len, enron_data.values()))"
     ],
     "language": "python",
     "metadata": {},
     "outputs": [
      {
       "metadata": {},
       "output_type": "pyout",
       "prompt_number": 46,
       "text": [
        "{21}"
       ]
      }
     ],
     "prompt_number": 46
    },
    {
     "cell_type": "markdown",
     "metadata": {},
     "source": [
      "How many people of interest are there in the dataset? Feature name is poi. We have 128 who are not and 18 people who are indeed the point of interest."
     ]
    },
    {
     "cell_type": "code",
     "collapsed": true,
     "input": [
      "our_false_array = []\n",
      "for x in enron_data.itervalues():\n",
      "    if x['poi'] == False:\n",
      "        our_false_array.append(x['poi'])"
     ],
     "language": "python",
     "metadata": {},
     "outputs": [],
     "prompt_number": 195
    },
    {
     "cell_type": "code",
     "collapsed": false,
     "input": [
      "len(our_false_array)"
     ],
     "language": "python",
     "metadata": {},
     "outputs": [
      {
       "metadata": {},
       "output_type": "pyout",
       "prompt_number": 196,
       "text": [
        "128"
       ]
      }
     ],
     "prompt_number": 196
    },
    {
     "cell_type": "code",
     "collapsed": false,
     "input": [
      "our_true_array = []\n",
      "for x in enron_data.itervalues():\n",
      "    if x['poi'] == True:\n",
      "        our_true_array.append(x['poi'])"
     ],
     "language": "python",
     "metadata": {},
     "outputs": [],
     "prompt_number": 197
    },
    {
     "cell_type": "code",
     "collapsed": false,
     "input": [
      "len(our_true_array)"
     ],
     "language": "python",
     "metadata": {},
     "outputs": [
      {
       "metadata": {},
       "output_type": "pyout",
       "prompt_number": 198,
       "text": [
        "18"
       ]
      }
     ],
     "prompt_number": 198
    },
    {
     "cell_type": "code",
     "collapsed": false,
     "input": [
      "18+128"
     ],
     "language": "python",
     "metadata": {},
     "outputs": [
      {
       "metadata": {},
       "output_type": "pyout",
       "prompt_number": 199,
       "text": [
        "146"
       ]
      }
     ],
     "prompt_number": 199
    },
    {
     "cell_type": "code",
     "collapsed": false,
     "input": [
      "#pulled from the provided files by udacity\n",
      "def poiEmails():\n",
      "    email_list = [\"kenneth_lay@enron.net\",    \n",
      "            \"kenneth_lay@enron.com\",\n",
      "            \"klay.enron@enron.com\",\n",
      "            \"kenneth.lay@enron.com\", \n",
      "            \"klay@enron.com\",\n",
      "            \"layk@enron.com\",\n",
      "            \"chairman.ken@enron.com\",\n",
      "            \"jeffreyskilling@yahoo.com\",\n",
      "            \"jeff_skilling@enron.com\",\n",
      "            \"jskilling@enron.com\",\n",
      "            \"effrey.skilling@enron.com\",\n",
      "            \"skilling@enron.com\",\n",
      "            \"jeffrey.k.skilling@enron.com\",\n",
      "            \"jeff.skilling@enron.com\",\n",
      "            \"kevin_a_howard.enronxgate.enron@enron.net\",\n",
      "            \"kevin.howard@enron.com\",\n",
      "            \"kevin.howard@enron.net\",\n",
      "            \"kevin.howard@gcm.com\",\n",
      "            \"michael.krautz@enron.com\"\n",
      "            \"scott.yeager@enron.com\",\n",
      "            \"syeager@fyi-net.com\",\n",
      "            \"scott_yeager@enron.net\",\n",
      "            \"syeager@flash.net\",\n",
      "            \"joe'.'hirko@enron.com\", \n",
      "            \"joe.hirko@enron.com\", \n",
      "            \"rex.shelby@enron.com\", \n",
      "            \"rex.shelby@enron.nt\", \n",
      "            \"rex_shelby@enron.net\",\n",
      "            \"jbrown@enron.com\",\n",
      "            \"james.brown@enron.com\", \n",
      "            \"rick.causey@enron.com\", \n",
      "            \"richard.causey@enron.com\", \n",
      "            \"rcausey@enron.com\",\n",
      "            \"calger@enron.com\",\n",
      "            \"chris.calger@enron.com\", \n",
      "            \"christopher.calger@enron.com\", \n",
      "            \"ccalger@enron.com\",\n",
      "            \"tim_despain.enronxgate.enron@enron.net\", \n",
      "            \"tim.despain@enron.com\",\n",
      "            \"kevin_hannon@enron.com\", \n",
      "            \"kevin'.'hannon@enron.com\", \n",
      "            \"kevin_hannon@enron.net\", \n",
      "            \"kevin.hannon@enron.com\",\n",
      "            \"mkoenig@enron.com\", \n",
      "            \"mark.koenig@enron.com\",\n",
      "            \"m..forney@enron.com\",\n",
      "            \"ken'.'rice@enron.com\", \n",
      "            \"ken.rice@enron.com\",\n",
      "            \"ken_rice@enron.com\", \n",
      "            \"ken_rice@enron.net\",\n",
      "            \"paula.rieker@enron.com\",\n",
      "            \"prieker@enron.com\", \n",
      "            \"andrew.fastow@enron.com\", \n",
      "            \"lfastow@pdq.net\", \n",
      "            \"andrew.s.fastow@enron.com\", \n",
      "            \"lfastow@pop.pdq.net\", \n",
      "            \"andy.fastow@enron.com\",\n",
      "            \"david.w.delainey@enron.com\", \n",
      "            \"delainey.dave@enron.com\", \n",
      "            \"'delainey@enron.com\", \n",
      "            \"david.delainey@enron.com\", \n",
      "            \"'david.delainey'@enron.com\", \n",
      "            \"dave.delainey@enron.com\", \n",
      "            \"delainey'.'david@enron.com\",\n",
      "            \"ben.glisan@enron.com\", \n",
      "            \"bglisan@enron.com\", \n",
      "            \"ben_f_glisan@enron.com\", \n",
      "            \"ben'.'glisan@enron.com\",\n",
      "            \"jeff.richter@enron.com\", \n",
      "            \"jrichter@nwlink.com\",\n",
      "            \"lawrencelawyer@aol.com\", \n",
      "            \"lawyer'.'larry@enron.com\", \n",
      "            \"larry_lawyer@enron.com\", \n",
      "            \"llawyer@enron.com\", \n",
      "            \"larry.lawyer@enron.com\", \n",
      "            \"lawrence.lawyer@enron.com\",\n",
      "            \"tbelden@enron.com\", \n",
      "            \"tim.belden@enron.com\", \n",
      "            \"tim_belden@pgn.com\", \n",
      "            \"tbelden@ect.enron.com\",\n",
      "            \"michael.kopper@enron.com\",\n",
      "            \"dave.duncan@enron.com\", \n",
      "            \"dave.duncan@cipco.org\", \n",
      "            \"duncan.dave@enron.com\",\n",
      "            \"ray.bowen@enron.com\", \n",
      "            \"raymond.bowen@enron.com\", \n",
      "            \"'bowen@enron.com\",\n",
      "            \"wes.colwell@enron.com\",\n",
      "            \"dan.boyle@enron.com\",\n",
      "            \"cloehr@enron.com\", \n",
      "            \"chris.loehr@enron.com\"\n",
      "        ]\n",
      "    return email_list\n"
     ],
     "language": "python",
     "metadata": {},
     "outputs": [],
     "prompt_number": 200
    },
    {
     "cell_type": "code",
     "collapsed": false,
     "input": [
      "def poi_names():\n",
      "    names = [\"Lay, Kenneth\",\n",
      "             \"Skilling, Jeffrey\",\n",
      "             \"Howard, Kevin\",\n",
      "             \"Krautz, Michael\",\n",
      "             \"Yeager, Scott\",\n",
      "             \"Hirko, Joseph\",\n",
      "             \"Shelby, Rex\",\n",
      "             \"Bermingham, David\",\n",
      "             \"Darby, Giles\",\n",
      "             \"Mulgrew, Gary\",\n",
      "             \"Bayley, Daniel\",\n",
      "             \"Brown, James\",\n",
      "             \"Furst, Robert\",\n",
      "             \"Fuhs, William\",\n",
      "             \"Causey, Richard\",\n",
      "             \"Calger, Christopher\",\n",
      "             \"DeSpain, Timothy\",\n",
      "             \"Hannon, Kevin\",\n",
      "             \"Koenig, Mark\",\n",
      "             \"Forney, John\",\n",
      "             \"Rice, Kenneth\",\n",
      "             \"Rieker, Paula\",\n",
      "             \"Fastow, Lea\",\n",
      "             \"Fastow, Andrew\",\n",
      "             \"Delainey, David\",\n",
      "             \"Glisan, Ben\",\n",
      "             \"Richter, Jeffrey\",\n",
      "             \"Lawyer, Larry\",\n",
      "             \"Belden, Timothy\",\n",
      "             \"Kopper, Michael\",\n",
      "             \"Duncan, David\",\n",
      "             \"Bowen, Raymond\",\n",
      "             \"Colwell, Wesley\",\n",
      "             \"Boyle, Dan\",\n",
      "             \"Loehr, Christopher\"]\n",
      "    return names"
     ],
     "language": "python",
     "metadata": {},
     "outputs": [],
     "prompt_number": 213
    },
    {
     "cell_type": "markdown",
     "metadata": {},
     "source": [
      "How many POI\u2019s were there total? (Use the names file, not the email addresses, since many folks have more than one address and a few didn\u2019t work for Enron, so we don\u2019t have their emails.) There are 35."
     ]
    },
    {
     "cell_type": "code",
     "collapsed": false,
     "input": [
      "len(poi_names())"
     ],
     "language": "python",
     "metadata": {},
     "outputs": [
      {
       "metadata": {},
       "output_type": "pyout",
       "prompt_number": 214,
       "text": [
        "35"
       ]
      }
     ],
     "prompt_number": 214
    },
    {
     "cell_type": "markdown",
     "metadata": {},
     "source": [
      "What are the stock details for James Prentice? 'total_stock_value': 1095040"
     ]
    },
    {
     "cell_type": "code",
     "collapsed": false,
     "input": [
      "enron_data['PRENTICE JAMES']"
     ],
     "language": "python",
     "metadata": {},
     "outputs": [
      {
       "metadata": {},
       "output_type": "pyout",
       "prompt_number": 224,
       "text": [
        "{'bonus': 'NaN',\n",
        " 'deferral_payments': 564348,\n",
        " 'deferred_income': 'NaN',\n",
        " 'director_fees': 'NaN',\n",
        " 'email_address': 'james.prentice@enron.com',\n",
        " 'exercised_stock_options': 886231,\n",
        " 'expenses': 'NaN',\n",
        " 'from_messages': 'NaN',\n",
        " 'from_poi_to_this_person': 'NaN',\n",
        " 'from_this_person_to_poi': 'NaN',\n",
        " 'loan_advances': 'NaN',\n",
        " 'long_term_incentive': 'NaN',\n",
        " 'other': 'NaN',\n",
        " 'poi': False,\n",
        " 'restricted_stock': 208809,\n",
        " 'restricted_stock_deferred': 'NaN',\n",
        " 'salary': 'NaN',\n",
        " 'shared_receipt_with_poi': 'NaN',\n",
        " 'to_messages': 'NaN',\n",
        " 'total_payments': 564348,\n",
        " 'total_stock_value': 1095040}"
       ]
      }
     ],
     "prompt_number": 224
    },
    {
     "cell_type": "markdown",
     "metadata": {},
     "source": [
      "How many email messages do we have from Wesley Colwell to persons of interest? 11 people."
     ]
    },
    {
     "cell_type": "code",
     "collapsed": false,
     "input": [
      "enron_data['COLWELL WESLEY']"
     ],
     "language": "python",
     "metadata": {},
     "outputs": [
      {
       "metadata": {},
       "output_type": "pyout",
       "prompt_number": 225,
       "text": [
        "{'bonus': 1200000,\n",
        " 'deferral_payments': 27610,\n",
        " 'deferred_income': -144062,\n",
        " 'director_fees': 'NaN',\n",
        " 'email_address': 'wes.colwell@enron.com',\n",
        " 'exercised_stock_options': 'NaN',\n",
        " 'expenses': 16514,\n",
        " 'from_messages': 40,\n",
        " 'from_poi_to_this_person': 240,\n",
        " 'from_this_person_to_poi': 11,\n",
        " 'loan_advances': 'NaN',\n",
        " 'long_term_incentive': 'NaN',\n",
        " 'other': 101740,\n",
        " 'poi': True,\n",
        " 'restricted_stock': 698242,\n",
        " 'restricted_stock_deferred': 'NaN',\n",
        " 'salary': 288542,\n",
        " 'shared_receipt_with_poi': 1132,\n",
        " 'to_messages': 1758,\n",
        " 'total_payments': 1490344,\n",
        " 'total_stock_value': 698242}"
       ]
      }
     ],
     "prompt_number": 225
    },
    {
     "cell_type": "markdown",
     "metadata": {},
     "source": [
      "What\u2019s the value of stock options exercised by Jeffrey Skilling?\n",
      "\n",
      "exercised_stock_options: 19250000"
     ]
    },
    {
     "cell_type": "code",
     "collapsed": false,
     "input": [
      "enron_data['SKILLING JEFFREY K']"
     ],
     "language": "python",
     "metadata": {},
     "outputs": [
      {
       "metadata": {},
       "output_type": "pyout",
       "prompt_number": 233,
       "text": [
        "{'bonus': 5600000,\n",
        " 'deferral_payments': 'NaN',\n",
        " 'deferred_income': 'NaN',\n",
        " 'director_fees': 'NaN',\n",
        " 'email_address': 'jeff.skilling@enron.com',\n",
        " 'exercised_stock_options': 19250000,\n",
        " 'expenses': 29336,\n",
        " 'from_messages': 108,\n",
        " 'from_poi_to_this_person': 88,\n",
        " 'from_this_person_to_poi': 30,\n",
        " 'loan_advances': 'NaN',\n",
        " 'long_term_incentive': 1920000,\n",
        " 'other': 22122,\n",
        " 'poi': True,\n",
        " 'restricted_stock': 6843672,\n",
        " 'restricted_stock_deferred': 'NaN',\n",
        " 'salary': 1111258,\n",
        " 'shared_receipt_with_poi': 2042,\n",
        " 'to_messages': 3627,\n",
        " 'total_payments': 8682716,\n",
        " 'total_stock_value': 26093672}"
       ]
      }
     ],
     "prompt_number": 233
    },
    {
     "cell_type": "code",
     "collapsed": false,
     "input": [],
     "language": "python",
     "metadata": {},
     "outputs": []
    }
   ],
   "metadata": {}
  }
 ]
}