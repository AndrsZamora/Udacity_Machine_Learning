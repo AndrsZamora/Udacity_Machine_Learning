{
 "metadata": {
  "name": "",
  "signature": "sha256:4571d8c51fd85263a82e5917c789edc28c9d44176b3222f7b3044abd27668834"
 },
 "nbformat": 3,
 "nbformat_minor": 0,
 "worksheets": [
  {
   "cells": [
    {
     "cell_type": "code",
     "collapsed": false,
     "input": [
      "import numpy \n",
      "import matplotlib\n",
      "matplotlib.use('agg')\n",
      "\n",
      "import matplotlib.pyplot as plt\n"
     ],
     "language": "python",
     "metadata": {},
     "outputs": [],
     "prompt_number": 2
    },
    {
     "cell_type": "code",
     "collapsed": false,
     "input": [
      "import random\n",
      "\n",
      "def ageNetWorthData():\n",
      "    \n",
      "    random.seed(42)\n",
      "    numpy.random.seed(42)\n",
      "    \n",
      "    ages = []\n",
      "    for ii in range(100):\n",
      "        ages.append(random.randint(20,65))\n",
      "    net_worths = [ii * 6.25 + numpy.random.normal(scale=40.) for ii in ages]\n",
      "    \n",
      "    ages = numpy.reshape(numpy.array(ages),(len(ages),1))\n",
      "    \n",
      "    net_worths = numpy.reshape(numpy.array(net_worths),(len(net_worths),1))\n",
      "    \n",
      "    from sklearn.cross_validation import train_test_split\n",
      "    ages_train, ages_test, net_worths_train, net_worths_test = train_test_split(ages, net_worths)\n",
      "    \n",
      "    return ages_train, ages_test, net_worths_train, net_worths_test"
     ],
     "language": "python",
     "metadata": {},
     "outputs": [],
     "prompt_number": 3
    },
    {
     "cell_type": "code",
     "collapsed": false,
     "input": [
      "#function to run the regression (not necessary)\n",
      "#function not necessary. Individual code lines do the job. Still cool though.\n",
      "def studentReg(ages_train, net_worths_train):\n",
      "    ### import the sklearn regression module, create, and train your regression\n",
      "    from sklearn.linear_model import LinearRegression\n",
      "    ### name your regression reg\n",
      "    reg = LinearRegression()\n",
      "    ### your code goes here!\n",
      "    reg.fit(ages_train, net_worths_train)\n",
      "    \n",
      "    \n",
      "    return reg"
     ],
     "language": "python",
     "metadata": {},
     "outputs": [],
     "prompt_number": 4
    },
    {
     "cell_type": "code",
     "collapsed": false,
     "input": [
      "ages_train, ages_test, net_worths_train, net_worths_test = ageNetWorthData()"
     ],
     "language": "python",
     "metadata": {},
     "outputs": [],
     "prompt_number": 5
    },
    {
     "cell_type": "code",
     "collapsed": false,
     "input": [
      "from sklearn.linear_model import LinearRegression\n",
      "\n",
      "reg = LinearRegression()\n",
      "\n",
      "reg.fit(ages_train, net_worths_train)"
     ],
     "language": "python",
     "metadata": {},
     "outputs": [
      {
       "metadata": {},
       "output_type": "pyout",
       "prompt_number": 9,
       "text": [
        "LinearRegression(copy_X=True, fit_intercept=True, normalize=False)"
       ]
      }
     ],
     "prompt_number": 9
    },
    {
     "cell_type": "code",
     "collapsed": false,
     "input": [
      "reg.predict([50])[0]"
     ],
     "language": "python",
     "metadata": {},
     "outputs": [
      {
       "metadata": {},
       "output_type": "pyout",
       "prompt_number": 13,
       "text": [
        "309.32369417109737"
       ]
      }
     ],
     "prompt_number": 13
    },
    {
     "cell_type": "markdown",
     "metadata": {},
     "source": [
      "tutorial taking you through this. very effective\n",
      "http://napitupulu-jon.appspot.com/posts/regression-ud.html"
     ]
    },
    {
     "cell_type": "code",
     "collapsed": false,
     "input": [
      "%matplotlib inline"
     ],
     "language": "python",
     "metadata": {},
     "outputs": [],
     "prompt_number": 19
    },
    {
     "cell_type": "code",
     "collapsed": false,
     "input": [
      "plt.scatter(ages_train, net_worths_train, color=\"b\", label=\"train data\")\n",
      "plt.scatter(ages_test, net_worths_test, color=\"r\", label=\"test data\")\n",
      "plt.plot(ages_test, reg.predict(ages_test), color=\"black\")\n",
      "plt.legend(loc=2)\n",
      "plt.xlabel(\"ages\")\n",
      "plt.ylabel(\"net worths\")"
     ],
     "language": "python",
     "metadata": {},
     "outputs": [
      {
       "metadata": {},
       "output_type": "pyout",
       "prompt_number": 20,
       "text": [
        "<matplotlib.text.Text at 0x1081c4810>"
       ]
      },
      {
       "metadata": {},
       "output_type": "display_data",
       "png": "[encoded data removed]",
       "text": [
        "<matplotlib.figure.Figure at 0x107f53fd0>"
       ]
      }
     ],
     "prompt_number": 20
    },
    {
     "cell_type": "code",
     "collapsed": false,
     "input": [
      "reg.predict([50])"
     ],
     "language": "python",
     "metadata": {},
     "outputs": [
      {
       "metadata": {},
       "output_type": "pyout",
       "prompt_number": 21,
       "text": [
        "array([ 309.32369417])"
       ]
      }
     ],
     "prompt_number": 21
    },
    {
     "cell_type": "code",
     "collapsed": false,
     "input": [
      "print \"slope\", reg.coef_"
     ],
     "language": "python",
     "metadata": {},
     "outputs": [
      {
       "output_type": "stream",
       "stream": "stdout",
       "text": [
        "slope [[ 6.47354955]]\n"
       ]
      }
     ],
     "prompt_number": 22
    },
    {
     "cell_type": "code",
     "collapsed": false,
     "input": [
      "print \"intercept\", reg.intercept_"
     ],
     "language": "python",
     "metadata": {},
     "outputs": [
      {
       "output_type": "stream",
       "stream": "stdout",
       "text": [
        "intercept [-14.35378331]\n"
       ]
      }
     ],
     "prompt_number": 23
    },
    {
     "cell_type": "code",
     "collapsed": false,
     "input": [
      "print \"r-squared\", reg.score(ages_test, net_worths_test)"
     ],
     "language": "python",
     "metadata": {},
     "outputs": [
      {
       "output_type": "stream",
       "stream": "stdout",
       "text": [
        "r-squared 0.812365729231\n"
       ]
      }
     ],
     "prompt_number": 25
    },
    {
     "cell_type": "code",
     "collapsed": false,
     "input": [
      "print \"r-squared \", reg.score(ages_train, net_worths_train)"
     ],
     "language": "python",
     "metadata": {},
     "outputs": [
      {
       "output_type": "stream",
       "stream": "stdout",
       "text": [
        "r-squared  0.874588235822\n"
       ]
      }
     ],
     "prompt_number": 26
    },
    {
     "cell_type": "code",
     "collapsed": false,
     "input": [],
     "language": "python",
     "metadata": {},
     "outputs": []
    }
   ],
   "metadata": {}
  }
 ]
}