{
 "metadata": {
  "name": "",
  "signature": "sha256:55666aba366bb7f94d53b14d2ec832cfd7c5c55100b9994ea29bd44be69a59b5"
 },
 "nbformat": 3,
 "nbformat_minor": 0,
 "worksheets": [
  {
   "cells": [
    {
     "cell_type": "raw",
     "metadata": {},
     "source": []
    }
   ],
   "metadata": {}
  }
 ]
}