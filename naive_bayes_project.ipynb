{
 "metadata": {
  "name": "",
  "signature": "sha256:531de1f4aa1f6e2e47d2db21f50752fe64a218928597eda047e7797733f2f582"
 },
 "nbformat": 3,
 "nbformat_minor": 0,
 "worksheets": [
  {
   "cells": [
    {
     "cell_type": "code",
     "collapsed": false,
     "input": [],
     "language": "python",
     "metadata": {},
     "outputs": []
    }
   ],
   "metadata": {}
  }
 ]
}